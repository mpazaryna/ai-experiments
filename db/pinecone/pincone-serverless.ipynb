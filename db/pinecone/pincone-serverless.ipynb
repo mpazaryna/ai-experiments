{
 "cells": [
  {
   "cell_type": "code",
   "execution_count": 1,
   "metadata": {},
   "outputs": [],
   "source": [
    "import os\n",
    "from dotenv import load_dotenv, find_dotenv\n",
    "\n",
    "load_dotenv(find_dotenv())\n",
    "API_KEY=os.getenv(\"PINECONE_API_KEY\")\n"
   ]
  },
  {
   "cell_type": "code",
   "execution_count": 10,
   "metadata": {},
   "outputs": [],
   "source": [
    "from pinecone import Pinecone\n",
    "\n",
    "pc = Pinecone(api_key=API_KEY)\n",
    "index = pc.Index(\"quickstart-two\")"
   ]
  },
  {
   "cell_type": "code",
   "execution_count": 11,
   "metadata": {},
   "outputs": [
    {
     "data": {
      "text/plain": [
       "{'upserted_count': 4}"
      ]
     },
     "execution_count": 11,
     "metadata": {},
     "output_type": "execute_result"
    }
   ],
   "source": [
    "index.upsert(\n",
    "    vectors=[\n",
    "        {\n",
    "            \"id\": \"vec1\", \n",
    "            \"values\": [0.1, 0.1, 0.1, 0.1, 0.1, 0.1, 0.1, 0.1], \n",
    "            \"metadata\": {\"genre\": \"drama\"}\n",
    "        }, {\n",
    "            \"id\": \"vec2\", \n",
    "            \"values\": [0.2, 0.2, 0.2, 0.2, 0.2, 0.2, 0.2, 0.2], \n",
    "            \"metadata\": {\"genre\": \"action\"}\n",
    "        }, {\n",
    "            \"id\": \"vec3\", \n",
    "            \"values\": [0.3, 0.3, 0.3, 0.3, 0.3, 0.3, 0.3, 0.3], \n",
    "            \"metadata\": {\"genre\": \"drama\"}\n",
    "        }, {\n",
    "            \"id\": \"vec4\", \n",
    "            \"values\": [0.4, 0.4, 0.4, 0.4, 0.4, 0.4, 0.4, 0.4], \n",
    "            \"metadata\": {\"genre\": \"action\"}\n",
    "        }\n",
    "    ],\n",
    "    namespace= \"ns1\"\n",
    ")"
   ]
  },
  {
   "cell_type": "code",
   "execution_count": 14,
   "metadata": {},
   "outputs": [
    {
     "data": {
      "text/plain": [
       "{'matches': [{'id': 'vec4',\n",
       "              'metadata': {'genre': 'action'},\n",
       "              'score': 1.0,\n",
       "              'values': [0.4, 0.4, 0.4, 0.4, 0.4, 0.4, 0.4, 0.4]},\n",
       "             {'id': 'vec2',\n",
       "              'metadata': {'genre': 'action'},\n",
       "              'score': 1.0,\n",
       "              'values': [0.2, 0.2, 0.2, 0.2, 0.2, 0.2, 0.2, 0.2]}],\n",
       " 'namespace': 'ns1',\n",
       " 'usage': {'read_units': 6}}"
      ]
     },
     "execution_count": 14,
     "metadata": {},
     "output_type": "execute_result"
    }
   ],
   "source": [
    "index.query(\n",
    "    namespace=\"ns1\",\n",
    "    vector=[0.3, 0.3, 0.3, 0.3, 0.3, 0.3, 0.3, 0.3],\n",
    "    top_k=2,\n",
    "    include_values=True,\n",
    "    include_metadata=True,\n",
    "    filter={\"genre\": {\"$eq\": \"action\"}}\n",
    ")"
   ]
  },
  {
   "cell_type": "code",
   "execution_count": 13,
   "metadata": {},
   "outputs": [
    {
     "data": {
      "text/plain": [
       "{'dimension': 8,\n",
       " 'index_fullness': 0.0,\n",
       " 'namespaces': {'ns1': {'vector_count': 4}},\n",
       " 'total_vector_count': 4}"
      ]
     },
     "execution_count": 13,
     "metadata": {},
     "output_type": "execute_result"
    }
   ],
   "source": [
    "index.describe_index_stats()"
   ]
  }
 ],
 "metadata": {
  "kernelspec": {
   "display_name": "venv",
   "language": "python",
   "name": "python3"
  },
  "language_info": {
   "codemirror_mode": {
    "name": "ipython",
    "version": 3
   },
   "file_extension": ".py",
   "mimetype": "text/x-python",
   "name": "python",
   "nbconvert_exporter": "python",
   "pygments_lexer": "ipython3",
   "version": "3.9.18"
  }
 },
 "nbformat": 4,
 "nbformat_minor": 2
}
