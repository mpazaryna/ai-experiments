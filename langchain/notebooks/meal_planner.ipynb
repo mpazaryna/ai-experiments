{
 "cells": [
  {
   "cell_type": "markdown",
   "metadata": {},
   "source": [
    "Building a meal planner using langchain\n",
    "https://youtu.be/RvRGtuGCAMY?si=ycEplEUhL_hHN1sL\n"
   ]
  },
  {
   "cell_type": "code",
   "execution_count": 1,
   "metadata": {},
   "outputs": [],
   "source": [
    "import os\n",
    "import openai\n",
    "\n",
    "# Load your API key from an environment variable or secret management service\n",
    "openai.api_key = os.getenv(\"OPENAI_API_KEY\")"
   ]
  },
  {
   "cell_type": "code",
   "execution_count": 3,
   "metadata": {},
   "outputs": [
    {
     "name": "stdout",
     "output_type": "stream",
     "text": [
      "\n",
      "\n",
      "One example of a meal that can be made using rice, chicken, and peppers is Fried Rice with Chicken and Peppers. To make this dish, first fry some diced chicken in a pan with some oil until it is cooked through. Then add diced peppers and sauté for a few minutes. Finally, stir in cooked rice and cook until everything is heated through. Serve with soy sauce for extra flavor.\n"
     ]
    }
   ],
   "source": [
    "from langchain.llms import OpenAI\n",
    "from langchain.prompts import PromptTemplate\n",
    "\n",
    "llm = OpenAI(model_name=\"text-davinci-003\")\n",
    "\n",
    "prompt_template = PromptTemplate.from_template(\n",
    "    \"Give me an example of a meal that can be made using {ingredients}.\"\n",
    ")\n",
    "prompt_template.format(ingredients=\"rice,chicken,peppers\")\n",
    "recipe = llm(prompt_template.format(ingredients=\"rice,chicken,peppers\"))\n",
    "print(recipe)"
   ]
  }
 ],
 "metadata": {
  "kernelspec": {
   "display_name": "Python 3",
   "language": "python",
   "name": "python3"
  },
  "language_info": {
   "codemirror_mode": {
    "name": "ipython",
    "version": 3
   },
   "file_extension": ".py",
   "mimetype": "text/x-python",
   "name": "python",
   "nbconvert_exporter": "python",
   "pygments_lexer": "ipython3",
   "version": "3.11.3"
  },
  "orig_nbformat": 4
 },
 "nbformat": 4,
 "nbformat_minor": 2
}
