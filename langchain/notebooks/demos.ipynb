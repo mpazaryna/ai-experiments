{
 "cells": [
  {
   "cell_type": "markdown",
   "metadata": {},
   "source": [
    "Building a meal planner using langchain\n",
    "https://youtu.be/RvRGtuGCAMY?si=ycEplEUhL_hHN1sL\n"
   ]
  },
  {
   "cell_type": "code",
   "execution_count": 1,
   "metadata": {},
   "outputs": [],
   "source": [
    "import os\n",
    "import openai\n",
    "\n",
    "# Load your API key from an environment variable or secret management service\n",
    "openai.api_key = os.getenv(\"OPENAI_API_KEY\")"
   ]
  },
  {
   "cell_type": "code",
   "execution_count": 3,
   "metadata": {},
   "outputs": [
    {
     "name": "stdout",
     "output_type": "stream",
     "text": [
      "Tall and sturdy oak,\n",
      "Leaves whisper secrets softly,\n",
      "Roots embrace the earth.\n"
     ]
    }
   ],
   "source": [
    "from langchain.chat_models import ChatOpenAI\n",
    "\n",
    "llm = OpenAI(temperature=0, model_name=\"gpt-3.5-turbo-16k\")\n",
    "haiku = llm(\"A haiku about a tree\")\n",
    "print(haiku)"
   ]
  },
  {
   "cell_type": "code",
   "execution_count": 4,
   "metadata": {},
   "outputs": [
    {
     "name": "stdout",
     "output_type": "stream",
     "text": [
      "\n",
      "\n",
      "One example of a meal that can be made using rice, chicken, and peppers is a Chicken and Peppers Rice Bowl. To make this dish, start by cooking the rice according to package instructions. Heat some oil in a pan and add diced chicken, peppers, and any other desired vegetables. Cook the chicken and vegetables until they are cooked through, then add in some seasonings. Serve the cooked chicken and vegetables over the cooked rice. Top with fresh herbs and enjoy!\n"
     ]
    }
   ],
   "source": [
    "from langchain.llms import OpenAI\n",
    "from langchain.prompts import PromptTemplate\n",
    "\n",
    "def run_recipe_create():\n",
    "    llm = OpenAI(model_name=\"text-davinci-003\")\n",
    "\n",
    "    prompt_template = PromptTemplate.from_template(\n",
    "        \"Give me an example of a meal that can be made using {ingredients}.\"\n",
    "    )\n",
    "    prompt_template.format(ingredients=\"rice,chicken,peppers\")\n",
    "    recipe = llm(prompt_template.format(ingredients=\"rice,chicken,peppers\"))\n",
    "    return recipe\n",
    "\n",
    "v = run_recipe_create()\n",
    "print(v)"
   ]
  },
  {
   "cell_type": "code",
   "execution_count": 5,
   "metadata": {},
   "outputs": [
    {
     "name": "stdout",
     "output_type": "stream",
     "text": [
      "\n",
      "\n",
      "\u001b[1m> Entering new ConversationChain chain...\u001b[0m\n",
      "Prompt after formatting:\n",
      "\u001b[32;1m\u001b[1;3mThe following is a friendly conversation between a human and an AI. The AI is talkative and provides lots of specific details from its context. If the AI does not know the answer to a question, it truthfully says it does not know.\n",
      "\n",
      "Current conversation:\n",
      "\n",
      "Human: Hi there!\n",
      "AI:\u001b[0m\n",
      "\n",
      "\u001b[1m> Finished chain.\u001b[0m\n",
      "\n",
      "\n",
      "\u001b[1m> Entering new ConversationChain chain...\u001b[0m\n",
      "Prompt after formatting:\n",
      "\u001b[32;1m\u001b[1;3mThe following is a friendly conversation between a human and an AI. The AI is talkative and provides lots of specific details from its context. If the AI does not know the answer to a question, it truthfully says it does not know.\n",
      "\n",
      "Current conversation:\n",
      "Human: Hi there!\n",
      "AI:  Hi there! It's nice to meet you. I'm an AI with advanced knowledge in a variety of topics. What can I help you with today?\n",
      "Human: I'm doing well! Just having a conversation with an AI.\n",
      "AI:\u001b[0m\n",
      "\n",
      "\u001b[1m> Finished chain.\u001b[0m\n"
     ]
    }
   ],
   "source": [
    "from langchain import ConversationChain, PromptTemplate\n",
    "from langchain.llms import OpenAI\n",
    "\n",
    "def run_conversation_demo():\n",
    "    llm = OpenAI()\n",
    "    conversation = ConversationChain(llm=llm, verbose=True)\n",
    "    output1 = conversation.predict(input=\"Hi there!\")\n",
    "    output2 = conversation.predict(\n",
    "        input=\"I'm doing well! Just having a conversation with an AI.\"\n",
    "    )\n",
    "    return output1, output2\n",
    "\n",
    "output1, output2 = run_conversation_demo()"
   ]
  },
  {
   "cell_type": "code",
   "execution_count": 1,
   "metadata": {},
   "outputs": [
    {
     "ename": "ImportError",
     "evalue": "Could not import wikipedia python package. Please install it with `pip install wikipedia`.",
     "output_type": "error",
     "traceback": [
      "\u001b[0;31m---------------------------------------------------------------------------\u001b[0m",
      "\u001b[0;31mModuleNotFoundError\u001b[0m                       Traceback (most recent call last)",
      "File \u001b[0;32m~/github/rei-dev-organized/venv/lib/python3.11/site-packages/langchain/utilities/wikipedia.py:33\u001b[0m, in \u001b[0;36mWikipediaAPIWrapper.validate_environment\u001b[0;34m(cls, values)\u001b[0m\n\u001b[1;32m     32\u001b[0m \u001b[39mtry\u001b[39;00m:\n\u001b[0;32m---> 33\u001b[0m     \u001b[39mimport\u001b[39;00m \u001b[39mwikipedia\u001b[39;00m\n\u001b[1;32m     35\u001b[0m     wikipedia\u001b[39m.\u001b[39mset_lang(values[\u001b[39m\"\u001b[39m\u001b[39mlang\u001b[39m\u001b[39m\"\u001b[39m])\n",
      "\u001b[0;31mModuleNotFoundError\u001b[0m: No module named 'wikipedia'",
      "\nDuring handling of the above exception, another exception occurred:\n",
      "\u001b[0;31mImportError\u001b[0m                               Traceback (most recent call last)",
      "\u001b[1;32m/Users/mpaz/github/ai-experiments/cookbooks/langchain/demos.ipynb Cell 6\u001b[0m line \u001b[0;36m1\n\u001b[1;32m     <a href='vscode-notebook-cell:/Users/mpaz/github/ai-experiments/cookbooks/langchain/demos.ipynb#W5sZmlsZQ%3D%3D?line=12'>13</a>\u001b[0m     result \u001b[39m=\u001b[39m agent\u001b[39m.\u001b[39mrun(\n\u001b[1;32m     <a href='vscode-notebook-cell:/Users/mpaz/github/ai-experiments/cookbooks/langchain/demos.ipynb#W5sZmlsZQ%3D%3D?line=13'>14</a>\u001b[0m         \u001b[39m\"\u001b[39m\u001b[39mIn what year was python released and who is the original creator? Multiply the year by 3\u001b[39m\u001b[39m\"\u001b[39m\n\u001b[1;32m     <a href='vscode-notebook-cell:/Users/mpaz/github/ai-experiments/cookbooks/langchain/demos.ipynb#W5sZmlsZQ%3D%3D?line=14'>15</a>\u001b[0m     )\n\u001b[1;32m     <a href='vscode-notebook-cell:/Users/mpaz/github/ai-experiments/cookbooks/langchain/demos.ipynb#W5sZmlsZQ%3D%3D?line=15'>16</a>\u001b[0m     \u001b[39mreturn\u001b[39;00m result\n\u001b[0;32m---> <a href='vscode-notebook-cell:/Users/mpaz/github/ai-experiments/cookbooks/langchain/demos.ipynb#W5sZmlsZQ%3D%3D?line=17'>18</a>\u001b[0m \u001b[39mprint\u001b[39m(run_agent_demo())\n",
      "\u001b[1;32m/Users/mpaz/github/ai-experiments/cookbooks/langchain/demos.ipynb Cell 6\u001b[0m line \u001b[0;36m9\n\u001b[1;32m      <a href='vscode-notebook-cell:/Users/mpaz/github/ai-experiments/cookbooks/langchain/demos.ipynb#W5sZmlsZQ%3D%3D?line=6'>7</a>\u001b[0m llm \u001b[39m=\u001b[39m OpenAI()\n\u001b[1;32m      <a href='vscode-notebook-cell:/Users/mpaz/github/ai-experiments/cookbooks/langchain/demos.ipynb#W5sZmlsZQ%3D%3D?line=7'>8</a>\u001b[0m get_all_tool_names()\n\u001b[0;32m----> <a href='vscode-notebook-cell:/Users/mpaz/github/ai-experiments/cookbooks/langchain/demos.ipynb#W5sZmlsZQ%3D%3D?line=8'>9</a>\u001b[0m tools \u001b[39m=\u001b[39m load_tools([\u001b[39m\"\u001b[39;49m\u001b[39mwikipedia\u001b[39;49m\u001b[39m\"\u001b[39;49m, \u001b[39m\"\u001b[39;49m\u001b[39mllm-math\u001b[39;49m\u001b[39m\"\u001b[39;49m], llm\u001b[39m=\u001b[39;49mllm)\n\u001b[1;32m     <a href='vscode-notebook-cell:/Users/mpaz/github/ai-experiments/cookbooks/langchain/demos.ipynb#W5sZmlsZQ%3D%3D?line=9'>10</a>\u001b[0m agent \u001b[39m=\u001b[39m initialize_agent(\n\u001b[1;32m     <a href='vscode-notebook-cell:/Users/mpaz/github/ai-experiments/cookbooks/langchain/demos.ipynb#W5sZmlsZQ%3D%3D?line=10'>11</a>\u001b[0m     tools, llm, agent\u001b[39m=\u001b[39mAgentType\u001b[39m.\u001b[39mZERO_SHOT_REACT_DESCRIPTION, verbose\u001b[39m=\u001b[39m\u001b[39mTrue\u001b[39;00m\n\u001b[1;32m     <a href='vscode-notebook-cell:/Users/mpaz/github/ai-experiments/cookbooks/langchain/demos.ipynb#W5sZmlsZQ%3D%3D?line=11'>12</a>\u001b[0m )\n\u001b[1;32m     <a href='vscode-notebook-cell:/Users/mpaz/github/ai-experiments/cookbooks/langchain/demos.ipynb#W5sZmlsZQ%3D%3D?line=12'>13</a>\u001b[0m result \u001b[39m=\u001b[39m agent\u001b[39m.\u001b[39mrun(\n\u001b[1;32m     <a href='vscode-notebook-cell:/Users/mpaz/github/ai-experiments/cookbooks/langchain/demos.ipynb#W5sZmlsZQ%3D%3D?line=13'>14</a>\u001b[0m     \u001b[39m\"\u001b[39m\u001b[39mIn what year was python released and who is the original creator? Multiply the year by 3\u001b[39m\u001b[39m\"\u001b[39m\n\u001b[1;32m     <a href='vscode-notebook-cell:/Users/mpaz/github/ai-experiments/cookbooks/langchain/demos.ipynb#W5sZmlsZQ%3D%3D?line=14'>15</a>\u001b[0m )\n",
      "File \u001b[0;32m~/github/rei-dev-organized/venv/lib/python3.11/site-packages/langchain/agents/load_tools.py:613\u001b[0m, in \u001b[0;36mload_tools\u001b[0;34m(tool_names, llm, callbacks, **kwargs)\u001b[0m\n\u001b[1;32m    611\u001b[0m     _get_tool_func, extra_keys \u001b[39m=\u001b[39m _EXTRA_OPTIONAL_TOOLS[name]\n\u001b[1;32m    612\u001b[0m     sub_kwargs \u001b[39m=\u001b[39m {k: kwargs[k] \u001b[39mfor\u001b[39;00m k \u001b[39min\u001b[39;00m extra_keys \u001b[39mif\u001b[39;00m k \u001b[39min\u001b[39;00m kwargs}\n\u001b[0;32m--> 613\u001b[0m     tool \u001b[39m=\u001b[39m _get_tool_func(\u001b[39m*\u001b[39;49m\u001b[39m*\u001b[39;49msub_kwargs)\n\u001b[1;32m    614\u001b[0m     tools\u001b[39m.\u001b[39mappend(tool)\n\u001b[1;32m    615\u001b[0m \u001b[39melse\u001b[39;00m:\n",
      "File \u001b[0;32m~/github/rei-dev-organized/venv/lib/python3.11/site-packages/langchain/agents/load_tools.py:242\u001b[0m, in \u001b[0;36m_get_wikipedia\u001b[0;34m(**kwargs)\u001b[0m\n\u001b[1;32m    241\u001b[0m \u001b[39mdef\u001b[39;00m \u001b[39m_get_wikipedia\u001b[39m(\u001b[39m*\u001b[39m\u001b[39m*\u001b[39mkwargs: Any) \u001b[39m-\u001b[39m\u001b[39m>\u001b[39m BaseTool:\n\u001b[0;32m--> 242\u001b[0m     \u001b[39mreturn\u001b[39;00m WikipediaQueryRun(api_wrapper\u001b[39m=\u001b[39mWikipediaAPIWrapper(\u001b[39m*\u001b[39;49m\u001b[39m*\u001b[39;49mkwargs))\n",
      "File \u001b[0;32m~/github/rei-dev-organized/venv/lib/python3.11/site-packages/pydantic/v1/main.py:339\u001b[0m, in \u001b[0;36mBaseModel.__init__\u001b[0;34m(__pydantic_self__, **data)\u001b[0m\n\u001b[1;32m    333\u001b[0m \u001b[39m\u001b[39m\u001b[39m\"\"\"\u001b[39;00m\n\u001b[1;32m    334\u001b[0m \u001b[39mCreate a new model by parsing and validating input data from keyword arguments.\u001b[39;00m\n\u001b[1;32m    335\u001b[0m \n\u001b[1;32m    336\u001b[0m \u001b[39mRaises ValidationError if the input data cannot be parsed to form a valid model.\u001b[39;00m\n\u001b[1;32m    337\u001b[0m \u001b[39m\"\"\"\u001b[39;00m\n\u001b[1;32m    338\u001b[0m \u001b[39m# Uses something other than `self` the first arg to allow \"self\" as a settable attribute\u001b[39;00m\n\u001b[0;32m--> 339\u001b[0m values, fields_set, validation_error \u001b[39m=\u001b[39m validate_model(__pydantic_self__\u001b[39m.\u001b[39;49m\u001b[39m__class__\u001b[39;49m, data)\n\u001b[1;32m    340\u001b[0m \u001b[39mif\u001b[39;00m validation_error:\n\u001b[1;32m    341\u001b[0m     \u001b[39mraise\u001b[39;00m validation_error\n",
      "File \u001b[0;32m~/github/rei-dev-organized/venv/lib/python3.11/site-packages/pydantic/v1/main.py:1102\u001b[0m, in \u001b[0;36mvalidate_model\u001b[0;34m(model, input_data, cls)\u001b[0m\n\u001b[1;32m   1100\u001b[0m     \u001b[39mcontinue\u001b[39;00m\n\u001b[1;32m   1101\u001b[0m \u001b[39mtry\u001b[39;00m:\n\u001b[0;32m-> 1102\u001b[0m     values \u001b[39m=\u001b[39m validator(cls_, values)\n\u001b[1;32m   1103\u001b[0m \u001b[39mexcept\u001b[39;00m (\u001b[39mValueError\u001b[39;00m, \u001b[39mTypeError\u001b[39;00m, \u001b[39mAssertionError\u001b[39;00m) \u001b[39mas\u001b[39;00m exc:\n\u001b[1;32m   1104\u001b[0m     errors\u001b[39m.\u001b[39mappend(ErrorWrapper(exc, loc\u001b[39m=\u001b[39mROOT_KEY))\n",
      "File \u001b[0;32m~/github/rei-dev-organized/venv/lib/python3.11/site-packages/langchain/utilities/wikipedia.py:38\u001b[0m, in \u001b[0;36mWikipediaAPIWrapper.validate_environment\u001b[0;34m(cls, values)\u001b[0m\n\u001b[1;32m     36\u001b[0m     values[\u001b[39m\"\u001b[39m\u001b[39mwiki_client\u001b[39m\u001b[39m\"\u001b[39m] \u001b[39m=\u001b[39m wikipedia\n\u001b[1;32m     37\u001b[0m \u001b[39mexcept\u001b[39;00m \u001b[39mImportError\u001b[39;00m:\n\u001b[0;32m---> 38\u001b[0m     \u001b[39mraise\u001b[39;00m \u001b[39mImportError\u001b[39;00m(\n\u001b[1;32m     39\u001b[0m         \u001b[39m\"\u001b[39m\u001b[39mCould not import wikipedia python package. \u001b[39m\u001b[39m\"\u001b[39m\n\u001b[1;32m     40\u001b[0m         \u001b[39m\"\u001b[39m\u001b[39mPlease install it with `pip install wikipedia`.\u001b[39m\u001b[39m\"\u001b[39m\n\u001b[1;32m     41\u001b[0m     )\n\u001b[1;32m     42\u001b[0m \u001b[39mreturn\u001b[39;00m values\n",
      "\u001b[0;31mImportError\u001b[0m: Could not import wikipedia python package. Please install it with `pip install wikipedia`."
     ]
    }
   ],
   "source": [
    "from langchain import ConversationChain, PromptTemplate\n",
    "from langchain.agents import AgentType, initialize_agent, load_tools\n",
    "from langchain.agents.load_tools import get_all_tool_names\n",
    "from langchain.llms import OpenAI\n",
    "\n",
    "def run_agent_demo():\n",
    "    llm = OpenAI()\n",
    "    get_all_tool_names()\n",
    "    tools = load_tools([\"wikipedia\", \"llm-math\"], llm=llm)\n",
    "    agent = initialize_agent(\n",
    "        tools, llm, agent=AgentType.ZERO_SHOT_REACT_DESCRIPTION, verbose=True\n",
    "    )\n",
    "    result = agent.run(\n",
    "        \"In what year was python released and who is the original creator? Multiply the year by 3\"\n",
    "    )\n",
    "    return result\n",
    "\n",
    "print(run_agent_demo())"
   ]
  }
 ],
 "metadata": {
  "kernelspec": {
   "display_name": "Python 3",
   "language": "python",
   "name": "python3"
  },
  "language_info": {
   "codemirror_mode": {
    "name": "ipython",
    "version": 3
   },
   "file_extension": ".py",
   "mimetype": "text/x-python",
   "name": "python",
   "nbconvert_exporter": "python",
   "pygments_lexer": "ipython3",
   "version": "3.11.5"
  },
  "orig_nbformat": 4
 },
 "nbformat": 4,
 "nbformat_minor": 2
}
