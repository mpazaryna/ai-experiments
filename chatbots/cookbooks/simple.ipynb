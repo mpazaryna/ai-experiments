{
 "cells": [
  {
   "cell_type": "markdown",
   "metadata": {},
   "source": [
    "# Simple Chatbot\n",
    "\n",
    "This is from Dan's repo, https://replit.com/@DanShipper1/Simple-Chatbot?v=1#main.py\n",
    "\n",
    "## Create local python environment, if you're not using Conda\n",
    "\n",
    "```sh\n",
    "python3 -m venv venv\n",
    "source venv/bin/activate\n",
    "pip install -r requirements.txt\n",
    "deactivate\n",
    "```"
   ]
  },
  {
   "cell_type": "code",
   "execution_count": 2,
   "metadata": {},
   "outputs": [],
   "source": [
    "import os\n",
    "\n",
    "import dotenv\n",
    "import openai\n",
    "\n",
    "# Load your API key from an environment variable or secret management service\n",
    "openai.api_key = os.getenv(\"OPENAI_API_KEY\")\n",
    "\n",
    "# Get the path to the .env file\n",
    "dotenv_path = dotenv.find_dotenv()\n",
    "\n",
    "# Load the .env file\n",
    "dotenv.load_dotenv(dotenv_path)\n",
    "\n",
    "# Load your API key from an environment variable or secret management service\n",
    "openai.api_key = os.getenv(\"OPENAI_API_KEY\")"
   ]
  },
  {
   "cell_type": "code",
   "execution_count": 3,
   "metadata": {},
   "outputs": [
    {
     "name": "stdout",
     "output_type": "stream",
     "text": [
      "Assistant: Tofu is a popular food made from soybeans. It is a protein-rich meat substitute commonly used in vegetarian and vegan cuisine. Tofu has a mild flavor and a soft, silky texture. It is versatile and can be cooked in various ways, such as frying, baking, and stir-frying.\n"
     ]
    }
   ],
   "source": [
    "import openai\n",
    "\n",
    "# Start the conversation with a system message (this can be any message you want to set the behavior of the assistant)\n",
    "messages = [\n",
    "    {\"role\": \"system\", \"content\": \"You are a helpful assistant.\"},\n",
    "]\n",
    "\n",
    "# Get user input\n",
    "user_message = input(\"User: \")\n",
    "\n",
    "# Append user message to conversation\n",
    "messages.append({\"role\": \"user\", \"content\": user_message})\n",
    "\n",
    "# Call OpenAI API\n",
    "response = openai.ChatCompletion.create(model=\"gpt-3.5-turbo\", messages=messages)\n",
    "\n",
    "# Get the assistant's message from the response\n",
    "assistant_message = response[\"choices\"][0][\"message\"][\"content\"]\n",
    "print(f\"Assistant: {assistant_message}\")"
   ]
  }
 ],
 "metadata": {
  "kernelspec": {
   "display_name": "autogen",
   "language": "python",
   "name": "python3"
  },
  "language_info": {
   "codemirror_mode": {
    "name": "ipython",
    "version": 3
   },
   "file_extension": ".py",
   "mimetype": "text/x-python",
   "name": "python",
   "nbconvert_exporter": "python",
   "pygments_lexer": "ipython3",
   "version": "3.11.4"
  }
 },
 "nbformat": 4,
 "nbformat_minor": 2
}
