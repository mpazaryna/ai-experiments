{
 "cells": [
  {
   "cell_type": "code",
   "execution_count": null,
   "metadata": {},
   "outputs": [],
   "source": [
    "from pydantic import BaseModel, EmailStr, validator\n",
    "\n",
    "class User(BaseModel):\n",
    "    name: str\n",
    "    email: EmailStr\n",
    "    account_id: int\n",
    "    \n",
    "    #class function to validate account_id\n",
    "    @validator('account_id')\n",
    "    def account_id_must_be_positive(cls, v):\n",
    "        if v < 0:\n",
    "            raise ValueError(f'account_id must be positive: {v}')\n",
    "        return v"
   ]
  },
  {
   "cell_type": "markdown",
   "metadata": {},
   "source": []
  },
  {
   "cell_type": "code",
   "execution_count": null,
   "metadata": {},
   "outputs": [],
   "source": [
    "user_data = {\n",
    "    \"name\": \"John Doe\",\n",
    "    \"email\": \"jon@example.com\",\n",
    "    \"account_id\": 123456\n",
    "}\n",
    "\n",
    "bad_data = {\n",
    "    \"name\": \"John Doe\",\n",
    "    \"email\": \"jon@example.com\",\n",
    "    \"account_id\": \"test\"\n",
    "}\n",
    "\n",
    "## unpacking\n",
    "user = User(**user_data)\n",
    "\n",
    "print(user.name)\n",
    "print(user.email)\n",
    "print(user.account_id)\n",
    "\n",
    "\n",
    "bad_user = User(**bad_data)\n",
    "print(bad_user.name)\n",
    "\n"
   ]
  },
  {
   "cell_type": "code",
   "execution_count": null,
   "metadata": {},
   "outputs": [],
   "source": [
    "try:\n",
    "    z = User(**user_data)\n",
    "except Exception as e:\n",
    "    print(f\"An error occurred: {e}\")\n",
    "    z = None\n",
    "\n",
    "if z:\n",
    "    print(z.name)\n",
    "    print(z.email)\n",
    "    print(z.account_id)\n",
    "    print(z.dict())\n",
    "    print(z.json())\n",
    "    print(z)\n",
    "    print(z.json())\n",
    "    print(z)"
   ]
  },
  {
   "cell_type": "code",
   "execution_count": null,
   "metadata": {},
   "outputs": [],
   "source": [
    "# create invalid user\n",
    "try:\n",
    "    user = User(**bad_data)\n",
    "except Exception as e:\n",
    "    print(f\"An error occurred: {e}\")\n",
    "    print(f\"Error: {e}\")\n",
    "    user = None\n",
    "\n",
    "if user:\n",
    "    print(user.name)\n"
   ]
  },
  {
   "cell_type": "code",
   "execution_count": null,
   "metadata": {},
   "outputs": [],
   "source": [
    "# json string to pydantic object\n",
    "json_str = '{\"name\": \"John Doe\",\"email\": \"test@gmail.com\",\"account_id\": 123456}'\n",
    "\n",
    "# create invalid user\n",
    "try:\n",
    "    user = User.parse_raw(json_str)\n",
    "except Exception as e:\n",
    "    print(f\"An error occurred: {e}\")\n",
    "    print(f\"Error: {e}\")\n",
    "    user = None\n",
    "\n",
    "if user:\n",
    "    print(user.name)"
   ]
  }
 ],
 "metadata": {
  "kernelspec": {
   "display_name": "venv",
   "language": "python",
   "name": "python3"
  },
  "language_info": {
   "codemirror_mode": {
    "name": "ipython",
    "version": 3
   },
   "file_extension": ".py",
   "mimetype": "text/x-python",
   "name": "python",
   "nbconvert_exporter": "python",
   "pygments_lexer": "ipython3",
   "version": "3.11.3"
  }
 },
 "nbformat": 4,
 "nbformat_minor": 2
}
