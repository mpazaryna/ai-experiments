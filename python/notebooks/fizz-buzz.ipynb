{
 "cells": [
  {
   "cell_type": "markdown",
   "metadata": {},
   "source": [
    "# Fizz Buzz\n",
    "\n",
    "Technical Interview programming test"
   ]
  },
  {
   "cell_type": "code",
   "execution_count": null,
   "metadata": {},
   "outputs": [],
   "source": [
    "# This function prints the numbers from 1 to 100.\n",
    "def fizz_buzz():\n",
    "    for number in range(1, 101):\n",
    "        # Check if the number is divisible by 3 and 5.\n",
    "        if number % 3 == 0 and number % 5 == 0:\n",
    "            print(\"FizzBuzz\")\n",
    "        # Check if the number is divisible by 3.\n",
    "        elif number % 3 == 0:\n",
    "            print(\"Fizz\")\n",
    "        # Check if the number is divisible by 5.\n",
    "        elif number % 5 == 0:\n",
    "            print(\"Buzz\")\n",
    "        # Otherwise, print the number.\n",
    "        else:\n",
    "            print(number)\n",
    "\n",
    "# Call the fizz_buzz function.\n",
    "fizz_buzz()"
   ]
  }
 ],
 "metadata": {
  "kernelspec": {
   "display_name": "autogen",
   "language": "python",
   "name": "python3"
  },
  "language_info": {
   "codemirror_mode": {
    "name": "ipython",
    "version": 3
   },
   "file_extension": ".py",
   "mimetype": "text/x-python",
   "name": "python",
   "nbconvert_exporter": "python",
   "pygments_lexer": "ipython3",
   "version": "3.11.4"
  }
 },
 "nbformat": 4,
 "nbformat_minor": 2
}
