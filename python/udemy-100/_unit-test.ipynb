{
 "cells": [
  {
   "cell_type": "code",
   "execution_count": 1,
   "metadata": {},
   "outputs": [],
   "source": [
    "import datetime\n",
    "import dateutil\n",
    "\n",
    "def make_url(date):\n",
    "    \"\"\"Return the url for our API call based on date.\"\"\"\n",
    "\n",
    "    if isinstance(date, str):\n",
    "        date = dateutil.parser.parse(date).date()\n",
    "    elif not isinstance(date, datetime.date):\n",
    "        raise ValueError(\"must be a date\")\n",
    "    if date >= datetime.date(2020, 1, 1):\n",
    "        return f\"https://api.example.com/v2/{date.year}/{date.month}/{date.day}\"\n",
    "    else:\n",
    "        return f\"https://api.example.com/v1/{date:%Y-%m-%d}\""
   ]
  },
  {
   "cell_type": "code",
   "execution_count": 2,
   "metadata": {},
   "outputs": [
    {
     "name": "stderr",
     "output_type": "stream",
     "text": [
      "test_make_url_v1 (__main__.TestUrl.test_make_url_v1) ... ok\n",
      "test_make_url_v2 (__main__.TestUrl.test_make_url_v2) ... ok\n",
      "\n",
      "----------------------------------------------------------------------\n",
      "Ran 2 tests in 0.013s\n",
      "\n",
      "OK\n"
     ]
    }
   ],
   "source": [
    "import unittest\n",
    "\n",
    "class TestUrl(unittest.TestCase):\n",
    "    def test_make_url_v2(self):\n",
    "        date = datetime.date(2020, 1, 1)\n",
    "        self.assertEqual(make_url(date), \"https://api.example.com/v2/2020/1/1\")\n",
    "        \n",
    "    def test_make_url_v1(self):\n",
    "        date = datetime.date(2019, 12, 31)\n",
    "        self.assertEqual(make_url(date), \"https://api.example.com/v1/2019-12-31\")\n",
    "\n",
    "        \n",
    "res = unittest.main(argv=[''], verbosity=3, exit=False)\n",
    "\n",
    "# if we want our notebook to stop processing due to failures, we need a cell itself to fail\n",
    "assert len(res.result.failures) == 0"
   ]
  }
 ],
 "metadata": {
  "kernelspec": {
   "display_name": "Python 3",
   "language": "python",
   "name": "python3"
  },
  "language_info": {
   "codemirror_mode": {
    "name": "ipython",
    "version": 3
   },
   "file_extension": ".py",
   "mimetype": "text/x-python",
   "name": "python",
   "nbconvert_exporter": "python",
   "pygments_lexer": "ipython3",
   "version": "3.11.3"
  },
  "orig_nbformat": 4
 },
 "nbformat": 4,
 "nbformat_minor": 2
}
