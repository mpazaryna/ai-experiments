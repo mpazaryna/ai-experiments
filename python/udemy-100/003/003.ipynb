{
 "cells": [
  {
   "cell_type": "markdown",
   "metadata": {},
   "source": [
    "# Elif Operator\n",
    "\n",
    "The elif keyword in Python is a contraction of \"else if\". It's used in conditional statements, specifically within the context of the if...elif...else construct. This construct allows you to check multiple conditions sequentially and execute code blocks based on the first condition that evaluates to True.\n",
    "\n",
    "Here's a basic structure of the if...elif...else construct:\n",
    "\n",
    "```py\n",
    "if condition_1:\n",
    "    # code to execute if condition_1 is True\n",
    "elif condition_2:\n",
    "    # code to execute if condition_2 is True (and condition_1 was False)\n",
    "elif condition_3:\n",
    "    # code to execute if condition_3 is True (and both condition_1 and condition_2 were False)\n",
    "else:\n",
    "    # code to execute if none of the above conditions were True\n",
    "```\n",
    "\n",
    "Note:\n",
    "\n",
    "- The elif and else parts are optional. You can have an if statement without them.\n",
    "- You can have multiple elif conditions, but there can only be one else at the end.\n",
    "- The code stops checking conditions once it encounters the first True condition.\n"
   ]
  },
  {
   "cell_type": "code",
   "execution_count": 4,
   "metadata": {},
   "outputs": [
    {
     "name": "stdout",
     "output_type": "stream",
     "text": [
      "welcome to the age classifier\n",
      "You are a senior\n"
     ]
    }
   ],
   "source": [
    "# if / elif / else operator\n",
    "print(\"welcome to the age classifier\")\n",
    "age = int(input(\"what is your age\"))\n",
    "if age  < 18:\n",
    "    print(\"You are a child\")\n",
    "elif age < 65:\n",
    "    print(\"You are an adult\")\n",
    "else:\n",
    "    print(\"You are a senior\")"
   ]
  },
  {
   "cell_type": "code",
   "execution_count": 2,
   "metadata": {},
   "outputs": [
    {
     "name": "stdout",
     "output_type": "stream",
     "text": [
      "Not leap year.\n"
     ]
    }
   ],
   "source": [
    "year = int(input(\"Which year do you want to check? \"))\n",
    "\n",
    "# To determine a leap year, follow these steps:\n",
    "# on every year that is evenly divisible by 4\n",
    "#   except every year that is evenly divisible by 100\n",
    "#     unless the year is also evenly divisible by 400\n",
    "\n",
    "val1 = year % 4\n",
    "val2 = year % 100\n",
    "val3 = year % 400\n",
    "\n",
    "if val1 == 0:\n",
    "    if val2 == 0:\n",
    "        if val3 == 0:\n",
    "            print(\"Leap year.\")\n",
    "        else:\n",
    "            print(\"Not leap year.\")\n",
    "    else:\n",
    "        print(\"Leap year.\")\n",
    "else:\n",
    "    print(\"Not leap year.\")\n"
   ]
  },
  {
   "cell_type": "code",
   "execution_count": 3,
   "metadata": {},
   "outputs": [
    {
     "name": "stdout",
     "output_type": "stream",
     "text": [
      "number is even\n"
     ]
    }
   ],
   "source": [
    "# modulo operator\n",
    "number = int(input(\"Which number do you want to check? \"))\n",
    "\n",
    "if number % 2 == 0:\n",
    "    print(\"number is even\")\n",
    "else:\n",
    "    print(\"number is odd\")"
   ]
  },
  {
   "cell_type": "code",
   "execution_count": 7,
   "metadata": {},
   "outputs": [
    {
     "name": "stdout",
     "output_type": "stream",
     "text": [
      "Welcome to Python Pizza Deliveries!\n",
      "Your final bill is: $21\n"
     ]
    }
   ],
   "source": [
    "# 🚨 Don't change the code below 👇\n",
    "print(\"Welcome to Python Pizza Deliveries!\")\n",
    "size = input(\"What size pizza do you want? S, M, or L \")\n",
    "add_pepperoni = input(\"Do you want pepperoni? Y or N \")\n",
    "extra_cheese = input(\"Do you want extra cheese? Y or N \")\n",
    "# 🚨 Don't change the code above 👆\n",
    "\n",
    "# Write your code below this line 👇\n",
    "\n",
    "bill = 0\n",
    "if size == \"S\":\n",
    "    bill = 15\n",
    "if size == \"M\":\n",
    "    bill = 20\n",
    "if size == \"L\":\n",
    "    bill = 25\n",
    "if add_pepperoni == \"Y\":\n",
    "    if size == \"S\":\n",
    "        bill += 2\n",
    "    else:\n",
    "        bill += 3\n",
    "if extra_cheese == \"Y\":\n",
    "    bill += 1\n",
    "\n",
    "print(f\"Your final bill is: ${bill}\")\n"
   ]
  },
  {
   "cell_type": "markdown",
   "metadata": {},
   "source": [
    "Logical Operators\n",
    "\n"
   ]
  },
  {
   "cell_type": "code",
   "execution_count": 11,
   "metadata": {},
   "outputs": [
    {
     "name": "stdout",
     "output_type": "stream",
     "text": [
      "False\n",
      "True\n"
     ]
    }
   ],
   "source": [
    "a = 15\n",
    "b = 23\n",
    "\n",
    "val = a > b\n",
    "print(val)\n",
    "\n",
    "val2 = a > 10 and a < 20\n",
    "print(val2)"
   ]
  }
 ],
 "metadata": {
  "kernelspec": {
   "display_name": "Python 3",
   "language": "python",
   "name": "python3"
  },
  "language_info": {
   "codemirror_mode": {
    "name": "ipython",
    "version": 3
   },
   "file_extension": ".py",
   "mimetype": "text/x-python",
   "name": "python",
   "nbconvert_exporter": "python",
   "pygments_lexer": "ipython3",
   "version": "3.10.8"
  },
  "orig_nbformat": 4
 },
 "nbformat": 4,
 "nbformat_minor": 2
}
