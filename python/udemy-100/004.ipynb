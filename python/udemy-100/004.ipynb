{
 "cells": [
  {
   "cell_type": "markdown",
   "metadata": {},
   "source": [
    "# Randomization and Python Lists\n",
    "\n",
    "## Randomization\n",
    "\n",
    "In Python, the `random` module provides various functions that enable you to generate random numbers. This is particularly useful in various applications such as simulations, games, and more. For instance, `random.randint(a, b)` returns a random integer between \\(a\\) and \\(b\\) (inclusive), and `random.choice(list)` selects a random item from the given list. To use these functions, you first need to import the `random` module.\n",
    "\n",
    "## Python Lists\n",
    "\n",
    "Lists are one of Python's built-in data structures used to store multiple items in a single variable. Lists are ordered, changeable, and allow duplicate items. They are created by placing all the items (elements) inside square brackets `[]`, separated by commas. For instance, `fruits = [\"apple\", \"banana\", \"cherry\"]` creates a list of fruits. Lists support various methods like `append()`, `remove()`, and `pop()` to manipulate the data. They can also be indexed, sliced, and looped through using loops.\n",
    "\n",
    "## Combining Randomization and Lists\n",
    "\n",
    "When combined, randomization and lists can be powerful. For example, you can shuffle a list using `random.shuffle(list)`, or select a random item from a list as mentioned before. This combination is commonly seen in applications like card games where you might want to shuffle a deck or select a random card. By understanding and mastering these two concepts, you can add a lot of variability and dynamism to your Python programs.\n"
   ]
  },
  {
   "cell_type": "code",
   "execution_count": 8,
   "metadata": {},
   "outputs": [
    {
     "name": "stdout",
     "output_type": "stream",
     "text": [
      "10\n"
     ]
    }
   ],
   "source": [
    "import random\n",
    "\n",
    "random_integer = random.randint(1, 10)\n",
    "print(random_integer)\n"
   ]
  },
  {
   "cell_type": "code",
   "execution_count": 7,
   "metadata": {},
   "outputs": [
    {
     "name": "stdout",
     "output_type": "stream",
     "text": [
      "0.08669392360390071\n"
     ]
    }
   ],
   "source": [
    "import random\n",
    "\n",
    "random_float = random.random()\n",
    "print(random_float)\n"
   ]
  },
  {
   "cell_type": "code",
   "execution_count": 5,
   "metadata": {},
   "outputs": [
    {
     "name": "stdout",
     "output_type": "stream",
     "text": [
      "Tails\n"
     ]
    }
   ],
   "source": [
    "# virtual toin coss\n",
    "\n",
    "import random\n",
    "random_side = random.randint(0, 1)\n",
    "if random_side == 1:\n",
    "  print(\"Heads\")\n",
    "else:\n",
    "    print(\"Tails\")"
   ]
  },
  {
   "cell_type": "markdown",
   "metadata": {},
   "source": [
    "# Python List\n",
    "\n",
    "A data structure, a way of organizing and storing grouped data in Python. For example, all the names of the states in the US, or all of the countries in the EU.\n",
    "\n",
    "In some cases you'd want to keep hold of the order of the data, such as a list of people in a queue.\n",
    "\n",
    "```py\n",
    "fruits = [item1, item2]\n",
    "```"
   ]
  },
  {
   "cell_type": "code",
   "execution_count": 13,
   "metadata": {},
   "outputs": [
    {
     "name": "stdout",
     "output_type": "stream",
     "text": [
      "['Delaware', 'Alaska', 'New York', 'Texas', 'California', 'Florida', 'Hawaii']\n",
      "Delaware\n",
      "Hawaii\n",
      "Florida\n",
      "Alaskaland\n",
      "['Delaware', 'Alaskaland', 'New York', 'Texas', 'California', 'Florida', 'Hawaii', 'Pazland', 'Angelland', 'Jackland']\n"
     ]
    }
   ],
   "source": [
    "states_of_america = [\"Delaware\", \"Alaska\", \"New York\", \"Texas\", \"California\", \"Florida\", \"Hawaii\"]\n",
    "print(states_of_america)\n",
    "print(states_of_america[0])\n",
    "print(states_of_america[-1])\n",
    "print(states_of_america[-2])\n",
    "states_of_america[1] = \"Alaskaland\"\n",
    "states_of_america.append(\"Pazland\")\n",
    "states_of_america.extend([\"Angelland\", \"Jackland\"])\n",
    "print(states_of_america[1])\n",
    "print(states_of_america)\n"
   ]
  },
  {
   "cell_type": "code",
   "execution_count": null,
   "metadata": {},
   "outputs": [],
   "source": []
  },
  {
   "cell_type": "code",
   "execution_count": 22,
   "metadata": {},
   "outputs": [
    {
     "name": "stdout",
     "output_type": "stream",
     "text": [
      "James is going to buy the meal today!\n"
     ]
    }
   ],
   "source": [
    "# select a random name from the list and print it out\n",
    "\n",
    "import random\n",
    "names_string = input(\"Give me everybody's names, separated by a comma. \")\n",
    "names = names_string.split(\", \")\n",
    "names_lenght = len(names)\n",
    "random_name = random.randint(0, names_lenght - 1)\n",
    "v = (names[random_name])\n",
    "print(f\"{v} is going to buy the meal today!\")\n"
   ]
  },
  {
   "cell_type": "code",
   "execution_count": 24,
   "metadata": {},
   "outputs": [
    {
     "name": "stdout",
     "output_type": "stream",
     "text": [
      "Kale\n",
      "[['Strawberries', 'Nectarines', 'Apples', 'Grapes', 'Peaches', 'Cherries', 'Pears'], ['Spinach', 'Kale', 'Tomatoes', 'Celery', 'Potatoes']]\n"
     ]
    }
   ],
   "source": [
    "# Index error, out of range\n",
    "\n",
    "fruits = [\"Strawberries\", \"Nectarines\", \"Apples\", \"Grapes\", \"Peaches\", \"Cherries\", \"Pears\"]\n",
    "vegetables = [\"Spinach\", \"Kale\", \"Tomatoes\", \"Celery\", \"Potatoes\"]\n",
    "\n",
    "dirty_dozen = [fruits, vegetables]\n",
    "print(dirty_dozen[1][1])\n",
    "\n",
    "# print the nested list\n",
    "print(dirty_dozen)"
   ]
  }
 ],
 "metadata": {
  "kernelspec": {
   "display_name": "Python 3",
   "language": "python",
   "name": "python3"
  },
  "language_info": {
   "codemirror_mode": {
    "name": "ipython",
    "version": 3
   },
   "file_extension": ".py",
   "mimetype": "text/x-python",
   "name": "python",
   "nbconvert_exporter": "python",
   "pygments_lexer": "ipython3",
   "version": "3.11.3"
  },
  "orig_nbformat": 4
 },
 "nbformat": 4,
 "nbformat_minor": 2
}
