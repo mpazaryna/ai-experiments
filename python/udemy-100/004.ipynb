{
 "cells": [
  {
   "cell_type": "markdown",
   "metadata": {},
   "source": [
    "# Randomization and Python Lists\n",
    "\n",
    "## Randomization\n",
    "\n",
    "In Python, the `random` module provides various functions that enable you to generate random numbers. This is particularly useful in various applications such as simulations, games, and more. For instance, `random.randint(a, b)` returns a random integer between \\(a\\) and \\(b\\) (inclusive), and `random.choice(list)` selects a random item from the given list. To use these functions, you first need to import the `random` module.\n",
    "\n",
    "## Python Lists\n",
    "\n",
    "Lists are one of Python's built-in data structures used to store multiple items in a single variable. Lists are ordered, changeable, and allow duplicate items. They are created by placing all the items (elements) inside square brackets `[]`, separated by commas. For instance, `fruits = [\"apple\", \"banana\", \"cherry\"]` creates a list of fruits. Lists support various methods like `append()`, `remove()`, and `pop()` to manipulate the data. They can also be indexed, sliced, and looped through using loops.\n",
    "\n",
    "## Combining Randomization and Lists\n",
    "\n",
    "When combined, randomization and lists can be powerful. For example, you can shuffle a list using `random.shuffle(list)`, or select a random item from a list as mentioned before. This combination is commonly seen in applications like card games where you might want to shuffle a deck or select a random card. By understanding and mastering these two concepts, you can add a lot of variability and dynamism to your Python programs.\n"
   ]
  },
  {
   "cell_type": "code",
   "execution_count": 8,
   "metadata": {},
   "outputs": [
    {
     "name": "stdout",
     "output_type": "stream",
     "text": [
      "10\n"
     ]
    }
   ],
   "source": [
    "import random\n",
    "\n",
    "random_integer = random.randint(1, 10)\n",
    "print(random_integer)\n"
   ]
  },
  {
   "cell_type": "code",
   "execution_count": 7,
   "metadata": {},
   "outputs": [
    {
     "name": "stdout",
     "output_type": "stream",
     "text": [
      "0.08669392360390071\n"
     ]
    }
   ],
   "source": [
    "import random\n",
    "\n",
    "random_float = random.random()\n",
    "print(random_float)\n"
   ]
  }
 ],
 "metadata": {
  "kernelspec": {
   "display_name": "Python 3",
   "language": "python",
   "name": "python3"
  },
  "language_info": {
   "codemirror_mode": {
    "name": "ipython",
    "version": 3
   },
   "file_extension": ".py",
   "mimetype": "text/x-python",
   "name": "python",
   "nbconvert_exporter": "python",
   "pygments_lexer": "ipython3",
   "version": "3.11.3"
  },
  "orig_nbformat": 4
 },
 "nbformat": 4,
 "nbformat_minor": 2
}
