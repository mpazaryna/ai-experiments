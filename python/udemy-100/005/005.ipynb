{
 "cells": [
  {
   "cell_type": "markdown",
   "metadata": {},
   "source": [
    "# Loops "
   ]
  },
  {
   "cell_type": "code",
   "execution_count": null,
   "metadata": {},
   "outputs": [],
   "source": [
    "fruits = [\"Apple\",\"Peach\",\"Pear\"]\n",
    "for fruit in fruits: \n",
    "  print(fruit)\n",
    "  print(fruit + \" Pie\")"
   ]
  },
  {
   "cell_type": "markdown",
   "metadata": {},
   "source": [
    "# Calculate studen height\n",
    "\n",
    "You are going to write a program that calculates the average student height from a List of heights.\n",
    "\n",
    "e.g. student_heights = [180, 124, 165, 173, 189, 169, 146]\n",
    "\n",
    "The average height can be calculated by adding all the heights together and dividing by the total number of heights.\n",
    "\n",
    "180 + 124 + 165 + 173 + 189 + 169 + 146 = 1146\n",
    "\n",
    "There are a total of 7 heights in student_heights\n",
    "\n",
    "1146 ÷ 7 = 163.71428571428572\n",
    "\n",
    "Average height rounded to the nearest whole number = 164\n",
    "\n",
    "Important You should not use the sum() or len() functions in your answer. You should try to replicate their functionality using what you have learnt about for loops.\n",
    "\n",
    "## Example Input\n",
    "\n",
    "151 145 179\n",
    "\n",
    "## Example Output\n",
    "\n",
    "total height = 475\n",
    "number of students = 3\n",
    "average height = 158"
   ]
  },
  {
   "cell_type": "code",
   "execution_count": 19,
   "metadata": {},
   "outputs": [
    {
     "name": "stdout",
     "output_type": "stream",
     "text": [
      "total height = 475\n",
      "number of students = 3\n",
      "average height = 158\n"
     ]
    }
   ],
   "source": [
    "def calculate_average_height(heights):\n",
    "    # Initialize variables\n",
    "    total_height = 0\n",
    "    num_students = 0\n",
    "    \n",
    "    # Iterate through the list of heights\n",
    "    for height in heights:\n",
    "        total_height += height\n",
    "        num_students += 1\n",
    "\n",
    "    # Calculate average height\n",
    "    average_height = round(total_height / num_students)\n",
    "\n",
    "    return total_height, num_students, average_height\n",
    "\n",
    "# Example inputs\n",
    "student_heights =[151, 145, 179]\n",
    "calc = calculate_average_height(student_heights)\n",
    "\n",
    "print(f\"total height = {calc[0]}\")\n",
    "print(f\"number of students = {calc[1]}\")\n",
    "print(f\"average height = {calc[2]}\")\n"
   ]
  },
  {
   "cell_type": "code",
   "execution_count": 30,
   "metadata": {},
   "outputs": [
    {
     "name": "stdout",
     "output_type": "stream",
     "text": [
      "the highest score in the class is: 233\n"
     ]
    }
   ],
   "source": [
    "def find_max(numbers):\n",
    "    max_num = numbers[0]\n",
    "    for num in numbers:\n",
    "        if num > max_num:\n",
    "            max_num = num\n",
    "    return max_num\n",
    "\n",
    "scores =[151, 145, 179, 233]\n",
    "x = find_max(scores)\n",
    "\n",
    "print(f\"the highest score in the class is: {x}\")\n"
   ]
  }
 ],
 "metadata": {
  "kernelspec": {
   "display_name": "Python 3",
   "language": "python",
   "name": "python3"
  },
  "language_info": {
   "codemirror_mode": {
    "name": "ipython",
    "version": 3
   },
   "file_extension": ".py",
   "mimetype": "text/x-python",
   "name": "python",
   "nbconvert_exporter": "python",
   "pygments_lexer": "ipython3",
   "version": "3.11.3"
  }
 },
 "nbformat": 4,
 "nbformat_minor": 2
}
