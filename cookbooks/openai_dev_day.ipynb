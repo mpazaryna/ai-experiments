{
 "cells": [
  {
   "cell_type": "markdown",
   "metadata": {},
   "source": [
    "I'm using the conda 3.12 environment when it's running locally.  I had to manually install the following.\n",
    "\n",
    "```sh\n",
    "conda env list\n",
    "conda activate py3.12\n",
    "conda install -c conda-forge python-dotenv\n",
    "conda install pillow\n",
    "pip install openai==1.1.1\n",
    "conda install requests\n",
    "```"
   ]
  },
  {
   "cell_type": "code",
   "execution_count": null,
   "metadata": {},
   "outputs": [],
   "source": [
    "# import sys\n",
    "# !{sys.executable} -m pip install openai==1.1.1\n",
    "# !{sys.executable} -m pip install tiktoken\n",
    "# !{sys.executable} -m pip install dotenv"
   ]
  },
  {
   "cell_type": "code",
   "execution_count": null,
   "metadata": {},
   "outputs": [],
   "source": [
    "import sys\n",
    "!{sys.executable} -m pip show openai"
   ]
  },
  {
   "cell_type": "code",
   "execution_count": 6,
   "metadata": {},
   "outputs": [],
   "source": [
    "import os\n",
    "import dotenv\n",
    "\n",
    "# Get the path to the .env file\n",
    "dotenv_path = dotenv.find_dotenv()\n",
    "\n",
    "# Load the .env file\n",
    "dotenv.load_dotenv(dotenv_path)\n",
    "\n",
    "api_key = os.getenv('OPENAI_API_KEY')\n",
    "# print(f'api_key: {api_key}')\n"
   ]
  },
  {
   "cell_type": "code",
   "execution_count": 7,
   "metadata": {},
   "outputs": [],
   "source": [
    "import base64\n",
    "import time\n",
    "import openai\n",
    "import os\n",
    "import requests\n",
    "import json"
   ]
  },
  {
   "cell_type": "code",
   "execution_count": 8,
   "metadata": {},
   "outputs": [],
   "source": [
    "from openai import OpenAI\n",
    "client = OpenAI(api_key=api_key)"
   ]
  },
  {
   "cell_type": "markdown",
   "metadata": {},
   "source": [
    "GPT-4 Turbo is our latest generation model. It’s more capable, has an updated knowledge cutoff of April 2023 and introduces a 128k context window (the equivalent of 300 pages of text in a single prompt). The model is also 3X cheaper for input tokens and 2X cheaper for output tokens compared to the original GPT-4 model. The maximum number of output tokens for this model is 4096."
   ]
  },
  {
   "cell_type": "code",
   "execution_count": null,
   "metadata": {},
   "outputs": [],
   "source": [
    "completion = client.chat.completions.create(\n",
    "    messages=[\n",
    "        {\n",
    "            \"role\": \"user\",\n",
    "            \"content\": \"What are some of the key events that happened in March 2021?\",\n",
    "        }\n",
    "    ],\n",
    "    model=\"gpt-4-1106-preview\",\n",
    ")"
   ]
  },
  {
   "cell_type": "code",
   "execution_count": null,
   "metadata": {},
   "outputs": [],
   "source": [
    "print(completion.choices[0].message.content)"
   ]
  },
  {
   "cell_type": "code",
   "execution_count": null,
   "metadata": {},
   "outputs": [],
   "source": [
    "completion = client.chat.completions.create(\n",
    "    messages=[\n",
    "        {\n",
    "            \"role\": \"user\",\n",
    "            \"content\": \"What are some of the key events that happened Janurary 2023 for New Zealand Prime Minister Jacinda Ardern?\",\n",
    "        }\n",
    "    ],\n",
    "    model=\"gpt-3.5-turbo-1106\",\n",
    ")"
   ]
  },
  {
   "cell_type": "code",
   "execution_count": null,
   "metadata": {},
   "outputs": [],
   "source": [
    "print(completion.choices[0].message.content)"
   ]
  },
  {
   "cell_type": "markdown",
   "metadata": {},
   "source": [
    "JSON Mode\n",
    "\n",
    "By setting response_format: { type: \"json_object\" } when calling gpt-4-visual-preview or gpt-3.5-turbo, these models will constrain their output to generate strings that parse into valid JSON. "
   ]
  },
  {
   "cell_type": "code",
   "execution_count": 9,
   "metadata": {},
   "outputs": [
    {
     "name": "stdout",
     "output_type": "stream",
     "text": [
      "ChatCompletionMessage(content='{\\n  \"groceries\": [\\n    \"eggs\",\\n    \"milk\",\\n    \"bread\",\\n    \"apples\",\\n    \"chicken\"\\n  ]\\n}', role='assistant', function_call=None, tool_calls=None)\n",
      "ChatCompletion(id='chatcmpl-8L9G16X0T1VcGC6AMYIEPtPsXApw3', choices=[Choice(finish_reason='stop', index=0, message=ChatCompletionMessage(content='{\\n  \"groceries\": [\\n    \"eggs\",\\n    \"milk\",\\n    \"bread\",\\n    \"apples\",\\n    \"chicken\"\\n  ]\\n}', role='assistant', function_call=None, tool_calls=None))], created=1700051165, model='gpt-3.5-turbo-1106', object='chat.completion', system_fingerprint='fp_eeff13170a', usage=CompletionUsage(completion_tokens=34, prompt_tokens=43, total_tokens=77))\n"
     ]
    }
   ],
   "source": [
    "from openai import OpenAI\n",
    "client = OpenAI()\n",
    "\n",
    "completion = client.chat.completions.create(\n",
    "  model=\"gpt-3.5-turbo-1106\",\n",
    "  response_format={\"type\": \"json_object\"},\n",
    "  messages=[\n",
    "    {\"role\": \"system\", \"content\": \"You are a helpful programmer who always returns your answer in JSON.\"},\n",
    "    {\"role\": \"user\", \"content\": \"give me a list of 5 things for grocery shopping. call the list 'groceries'\"}\n",
    "  ]\n",
    ")\n",
    "\n",
    "print(completion.choices[0].message)\n",
    "print(completion)\n"
   ]
  },
  {
   "cell_type": "code",
   "execution_count": 10,
   "metadata": {},
   "outputs": [
    {
     "ename": "TypeError",
     "evalue": "Object of type ChatCompletionMessage is not JSON serializable",
     "output_type": "error",
     "traceback": [
      "\u001b[0;31m---------------------------------------------------------------------------\u001b[0m",
      "\u001b[0;31mTypeError\u001b[0m                                 Traceback (most recent call last)",
      "\u001b[1;32m/Users/mpaz/github/ai-experiments/cookbooks/openai_dev_day.ipynb Cell 14\u001b[0m line \u001b[0;36m3\n\u001b[1;32m      <a href='vscode-notebook-cell:/Users/mpaz/github/ai-experiments/cookbooks/openai_dev_day.ipynb#X16sZmlsZQ%3D%3D?line=0'>1</a>\u001b[0m \u001b[39mimport\u001b[39;00m \u001b[39mjson\u001b[39;00m\n\u001b[1;32m      <a href='vscode-notebook-cell:/Users/mpaz/github/ai-experiments/cookbooks/openai_dev_day.ipynb#X16sZmlsZQ%3D%3D?line=1'>2</a>\u001b[0m \u001b[39m# Use json.dumps() to pretty print the JSON\u001b[39;00m\n\u001b[0;32m----> <a href='vscode-notebook-cell:/Users/mpaz/github/ai-experiments/cookbooks/openai_dev_day.ipynb#X16sZmlsZQ%3D%3D?line=2'>3</a>\u001b[0m pretty_json \u001b[39m=\u001b[39m json\u001b[39m.\u001b[39;49mdumps(completion\u001b[39m.\u001b[39;49mchoices[\u001b[39m0\u001b[39;49m]\u001b[39m.\u001b[39;49mmessage, indent\u001b[39m=\u001b[39;49m\u001b[39m4\u001b[39;49m)\n\u001b[1;32m      <a href='vscode-notebook-cell:/Users/mpaz/github/ai-experiments/cookbooks/openai_dev_day.ipynb#X16sZmlsZQ%3D%3D?line=4'>5</a>\u001b[0m \u001b[39m# Print the pretty JSON\u001b[39;00m\n\u001b[1;32m      <a href='vscode-notebook-cell:/Users/mpaz/github/ai-experiments/cookbooks/openai_dev_day.ipynb#X16sZmlsZQ%3D%3D?line=5'>6</a>\u001b[0m \u001b[39mprint\u001b[39m(pretty_json)\n",
      "File \u001b[0;32m~/anaconda3/envs/py3.12/lib/python3.12/json/__init__.py:238\u001b[0m, in \u001b[0;36mdumps\u001b[0;34m(obj, skipkeys, ensure_ascii, check_circular, allow_nan, cls, indent, separators, default, sort_keys, **kw)\u001b[0m\n\u001b[1;32m    232\u001b[0m \u001b[39mif\u001b[39;00m \u001b[39mcls\u001b[39m \u001b[39mis\u001b[39;00m \u001b[39mNone\u001b[39;00m:\n\u001b[1;32m    233\u001b[0m     \u001b[39mcls\u001b[39m \u001b[39m=\u001b[39m JSONEncoder\n\u001b[1;32m    234\u001b[0m \u001b[39mreturn\u001b[39;00m \u001b[39mcls\u001b[39;49m(\n\u001b[1;32m    235\u001b[0m     skipkeys\u001b[39m=\u001b[39;49mskipkeys, ensure_ascii\u001b[39m=\u001b[39;49mensure_ascii,\n\u001b[1;32m    236\u001b[0m     check_circular\u001b[39m=\u001b[39;49mcheck_circular, allow_nan\u001b[39m=\u001b[39;49mallow_nan, indent\u001b[39m=\u001b[39;49mindent,\n\u001b[1;32m    237\u001b[0m     separators\u001b[39m=\u001b[39;49mseparators, default\u001b[39m=\u001b[39;49mdefault, sort_keys\u001b[39m=\u001b[39;49msort_keys,\n\u001b[0;32m--> 238\u001b[0m     \u001b[39m*\u001b[39;49m\u001b[39m*\u001b[39;49mkw)\u001b[39m.\u001b[39;49mencode(obj)\n",
      "File \u001b[0;32m~/anaconda3/envs/py3.12/lib/python3.12/json/encoder.py:202\u001b[0m, in \u001b[0;36mJSONEncoder.encode\u001b[0;34m(self, o)\u001b[0m\n\u001b[1;32m    200\u001b[0m chunks \u001b[39m=\u001b[39m \u001b[39mself\u001b[39m\u001b[39m.\u001b[39miterencode(o, _one_shot\u001b[39m=\u001b[39m\u001b[39mTrue\u001b[39;00m)\n\u001b[1;32m    201\u001b[0m \u001b[39mif\u001b[39;00m \u001b[39mnot\u001b[39;00m \u001b[39misinstance\u001b[39m(chunks, (\u001b[39mlist\u001b[39m, \u001b[39mtuple\u001b[39m)):\n\u001b[0;32m--> 202\u001b[0m     chunks \u001b[39m=\u001b[39m \u001b[39mlist\u001b[39;49m(chunks)\n\u001b[1;32m    203\u001b[0m \u001b[39mreturn\u001b[39;00m \u001b[39m'\u001b[39m\u001b[39m'\u001b[39m\u001b[39m.\u001b[39mjoin(chunks)\n",
      "File \u001b[0;32m~/anaconda3/envs/py3.12/lib/python3.12/json/encoder.py:439\u001b[0m, in \u001b[0;36m_make_iterencode.<locals>._iterencode\u001b[0;34m(o, _current_indent_level)\u001b[0m\n\u001b[1;32m    437\u001b[0m         \u001b[39mraise\u001b[39;00m \u001b[39mValueError\u001b[39;00m(\u001b[39m\"\u001b[39m\u001b[39mCircular reference detected\u001b[39m\u001b[39m\"\u001b[39m)\n\u001b[1;32m    438\u001b[0m     markers[markerid] \u001b[39m=\u001b[39m o\n\u001b[0;32m--> 439\u001b[0m o \u001b[39m=\u001b[39m _default(o)\n\u001b[1;32m    440\u001b[0m \u001b[39myield from\u001b[39;00m _iterencode(o, _current_indent_level)\n\u001b[1;32m    441\u001b[0m \u001b[39mif\u001b[39;00m markers \u001b[39mis\u001b[39;00m \u001b[39mnot\u001b[39;00m \u001b[39mNone\u001b[39;00m:\n",
      "File \u001b[0;32m~/anaconda3/envs/py3.12/lib/python3.12/json/encoder.py:180\u001b[0m, in \u001b[0;36mJSONEncoder.default\u001b[0;34m(self, o)\u001b[0m\n\u001b[1;32m    161\u001b[0m \u001b[39mdef\u001b[39;00m \u001b[39mdefault\u001b[39m(\u001b[39mself\u001b[39m, o):\n\u001b[1;32m    162\u001b[0m \u001b[39m    \u001b[39m\u001b[39m\"\"\"Implement this method in a subclass such that it returns\u001b[39;00m\n\u001b[1;32m    163\u001b[0m \u001b[39m    a serializable object for ``o``, or calls the base implementation\u001b[39;00m\n\u001b[1;32m    164\u001b[0m \u001b[39m    (to raise a ``TypeError``).\u001b[39;00m\n\u001b[0;32m   (...)\u001b[0m\n\u001b[1;32m    178\u001b[0m \n\u001b[1;32m    179\u001b[0m \u001b[39m    \"\"\"\u001b[39;00m\n\u001b[0;32m--> 180\u001b[0m     \u001b[39mraise\u001b[39;00m \u001b[39mTypeError\u001b[39;00m(\u001b[39mf\u001b[39m\u001b[39m'\u001b[39m\u001b[39mObject of type \u001b[39m\u001b[39m{\u001b[39;00mo\u001b[39m.\u001b[39m\u001b[39m__class__\u001b[39m\u001b[39m.\u001b[39m\u001b[39m__name__\u001b[39m\u001b[39m}\u001b[39;00m\u001b[39m \u001b[39m\u001b[39m'\u001b[39m\n\u001b[1;32m    181\u001b[0m                     \u001b[39mf\u001b[39m\u001b[39m'\u001b[39m\u001b[39mis not JSON serializable\u001b[39m\u001b[39m'\u001b[39m)\n",
      "\u001b[0;31mTypeError\u001b[0m: Object of type ChatCompletionMessage is not JSON serializable"
     ]
    }
   ],
   "source": [
    "import json\n",
    "# Use json.dumps() to pretty print the JSON\n",
    "pretty_json = json.dumps(completion.choices[0].message, indent=4)\n",
    "\n",
    "# Print the pretty JSON\n",
    "print(pretty_json)"
   ]
  },
  {
   "cell_type": "markdown",
   "metadata": {},
   "source": [
    "DALL-E 3"
   ]
  },
  {
   "cell_type": "code",
   "execution_count": 3,
   "metadata": {},
   "outputs": [],
   "source": [
    "PROMPT = \"a room full of dogs all meditating in a circle\""
   ]
  },
  {
   "cell_type": "code",
   "execution_count": 4,
   "metadata": {},
   "outputs": [
    {
     "data": {
      "text/plain": [
       "'https://oaidalleapiprodscus.blob.core.windows.net/private/org-3Ei0iqcWZOIg7fs9QRxa4srN/user-TAKHWC1qaO1ZBXgUaVY8eM6I/img-JvlJhR9umt7sUga8SUJpmNYf.png?st=2023-11-15T11%3A28%3A45Z&se=2023-11-15T13%3A28%3A45Z&sp=r&sv=2021-08-06&sr=b&rscd=inline&rsct=image/png&skoid=6aaadede-4fb3-4698-a8f6-684d7786b067&sktid=a48cca56-e6da-484e-a814-9c849652bcb3&skt=2023-11-14T23%3A29%3A26Z&ske=2023-11-15T23%3A29%3A26Z&sks=b&skv=2021-08-06&sig=X%2BsZid/R5ZhTgj/u1Qnw5vMnvcXlbgltQCrlUI3jyjM%3D'"
      ]
     },
     "execution_count": 4,
     "metadata": {},
     "output_type": "execute_result"
    }
   ],
   "source": [
    "from openai import OpenAI\n",
    "client = OpenAI()\n",
    "\n",
    "response = client.images.generate(\n",
    "  model=\"dall-e-3\",\n",
    "  prompt= PROMPT,\n",
    "  size=\"1024x1024\",\n",
    "  quality=\"standard\",\n",
    "  n=1,\n",
    ")\n",
    "\n",
    "image_url = response.data[0].url\n",
    "image_url"
   ]
  },
  {
   "cell_type": "code",
   "execution_count": 5,
   "metadata": {},
   "outputs": [
    {
     "ename": "AttributeError",
     "evalue": "module 'PIL.Image' has no attribute 'ANTIALIAS'",
     "output_type": "error",
     "traceback": [
      "\u001b[0;31m---------------------------------------------------------------------------\u001b[0m",
      "\u001b[0;31mAttributeError\u001b[0m                            Traceback (most recent call last)",
      "\u001b[1;32m/Users/mpaz/github/ai-experiments/cookbooks/openai_dev_day.ipynb Cell 18\u001b[0m line \u001b[0;36m2\n\u001b[1;32m     <a href='vscode-notebook-cell:/Users/mpaz/github/ai-experiments/cookbooks/openai_dev_day.ipynb#X23sZmlsZQ%3D%3D?line=22'>23</a>\u001b[0m     display(img)\n\u001b[1;32m     <a href='vscode-notebook-cell:/Users/mpaz/github/ai-experiments/cookbooks/openai_dev_day.ipynb#X23sZmlsZQ%3D%3D?line=24'>25</a>\u001b[0m \u001b[39m# Call the function with the URL, the scale percentage, and the save name you want\u001b[39;00m\n\u001b[0;32m---> <a href='vscode-notebook-cell:/Users/mpaz/github/ai-experiments/cookbooks/openai_dev_day.ipynb#X23sZmlsZQ%3D%3D?line=25'>26</a>\u001b[0m display_and_save_image_from_url(image_url, scale_percent\u001b[39m=\u001b[39;49m\u001b[39m50\u001b[39;49m, save_name\u001b[39m=\u001b[39;49m\u001b[39m'\u001b[39;49m\u001b[39m../data/meditating_dogs.png\u001b[39;49m\u001b[39m'\u001b[39;49m)\n",
      "\u001b[1;32m/Users/mpaz/github/ai-experiments/cookbooks/openai_dev_day.ipynb Cell 18\u001b[0m line \u001b[0;36m1\n\u001b[1;32m     <a href='vscode-notebook-cell:/Users/mpaz/github/ai-experiments/cookbooks/openai_dev_day.ipynb#X23sZmlsZQ%3D%3D?line=14'>15</a>\u001b[0m     new_width \u001b[39m=\u001b[39m \u001b[39mint\u001b[39m(width \u001b[39m*\u001b[39m scale_percent \u001b[39m/\u001b[39m \u001b[39m100\u001b[39m)\n\u001b[1;32m     <a href='vscode-notebook-cell:/Users/mpaz/github/ai-experiments/cookbooks/openai_dev_day.ipynb#X23sZmlsZQ%3D%3D?line=15'>16</a>\u001b[0m     new_height \u001b[39m=\u001b[39m \u001b[39mint\u001b[39m(height \u001b[39m*\u001b[39m scale_percent \u001b[39m/\u001b[39m \u001b[39m100\u001b[39m)\n\u001b[0;32m---> <a href='vscode-notebook-cell:/Users/mpaz/github/ai-experiments/cookbooks/openai_dev_day.ipynb#X23sZmlsZQ%3D%3D?line=16'>17</a>\u001b[0m     img \u001b[39m=\u001b[39m img\u001b[39m.\u001b[39mresize((new_width, new_height), Image\u001b[39m.\u001b[39;49mANTIALIAS)\n\u001b[1;32m     <a href='vscode-notebook-cell:/Users/mpaz/github/ai-experiments/cookbooks/openai_dev_day.ipynb#X23sZmlsZQ%3D%3D?line=18'>19</a>\u001b[0m \u001b[39m# Save the image locally with the given name\u001b[39;00m\n\u001b[1;32m     <a href='vscode-notebook-cell:/Users/mpaz/github/ai-experiments/cookbooks/openai_dev_day.ipynb#X23sZmlsZQ%3D%3D?line=19'>20</a>\u001b[0m img\u001b[39m.\u001b[39msave(save_name)\n",
      "\u001b[0;31mAttributeError\u001b[0m: module 'PIL.Image' has no attribute 'ANTIALIAS'"
     ]
    }
   ],
   "source": [
    "import requests\n",
    "from PIL import Image\n",
    "from io import BytesIO\n",
    "from IPython.display import display\n",
    "\n",
    "def display_and_save_image_from_url(url, scale_percent=100, save_name='image.png'):\n",
    "    # Send a GET request to the specified URL to retrieve the image\n",
    "    response = requests.get(url)\n",
    "    # Open the image\n",
    "    img = Image.open(BytesIO(response.content))\n",
    "\n",
    "    # Calculate the new size, as a percentage of the original size\n",
    "    if scale_percent != 100:\n",
    "        width, height = img.size\n",
    "        new_width = int(width * scale_percent / 100)\n",
    "        new_height = int(height * scale_percent / 100)\n",
    "        img = img.resize((new_width, new_height), Image.ANTIALIAS)\n",
    "\n",
    "    # Save the image locally with the given name\n",
    "    img.save(save_name)\n",
    "\n",
    "    # Display the image in the notebook\n",
    "    display(img)\n",
    "\n",
    "# Call the function with the URL, the scale percentage, and the save name you want\n",
    "display_and_save_image_from_url(image_url, scale_percent=50, save_name='../data/meditating_dogs.png')"
   ]
  },
  {
   "cell_type": "markdown",
   "metadata": {},
   "source": [
    "GPT Voice\n"
   ]
  },
  {
   "cell_type": "code",
   "execution_count": null,
   "metadata": {},
   "outputs": [],
   "source": [
    "import base64\n",
    "import requests\n",
    "\n",
    "# Function to encode the image\n",
    "def encode_image(image_path):\n",
    "    with open(image_path, \"rb\") as image_file:\n",
    "        return base64.b64encode(image_file.read()).decode('utf-8')\n",
    "\n",
    "# Path to your image\n",
    "image_path = \"../data/meditating_dogs.png\"\n",
    "\n",
    "# Getting the base64 string\n",
    "base64_image = encode_image(image_path)\n",
    "\n",
    "headers = {\n",
    "    \"Content-Type\": \"application/json\",\n",
    "    \"Authorization\": f\"Bearer {os.environ['OPENAI_API_KEY']}\"\n",
    "}\n",
    "\n",
    "payload = {\n",
    "    \"model\": \"gpt-4-vision-preview\",\n",
    "    \"messages\": [\n",
    "      {\n",
    "        \"role\": \"user\",\n",
    "        \"content\": [\n",
    "          {\n",
    "            \"type\": \"text\",\n",
    "            \"text\": \"Describe what’s in this image in detail as a story?\"\n",
    "          },\n",
    "          {\n",
    "            \"type\": \"image_url\",\n",
    "            \"image_url\": {\n",
    "              \"url\": f\"data:image/jpeg;base64,{base64_image}\"\n",
    "            }\n",
    "          }\n",
    "        ]\n",
    "      }\n",
    "    ],\n",
    "    \"max_tokens\": 300\n",
    "}\n",
    "\n",
    "response = requests.post(\"https://api.openai.com/v1/chat/completions\", headers=headers, json=payload)\n",
    "\n",
    "print(response.json())"
   ]
  },
  {
   "cell_type": "code",
   "execution_count": null,
   "metadata": {},
   "outputs": [],
   "source": [
    "story = response.json()['choices'][0]['message']['content']\n",
    "\n",
    "print(story)"
   ]
  },
  {
   "cell_type": "markdown",
   "metadata": {},
   "source": [
    "## Text To Speech\n"
   ]
  },
  {
   "cell_type": "code",
   "execution_count": null,
   "metadata": {},
   "outputs": [],
   "source": [
    "from IPython.display import Audio\n",
    "from pathlib import Path\n",
    "\n",
    "response = client.audio.speech.create(\n",
    "  model=\"tts-1\",\n",
    "  voice=\"onyx\",\n",
    "  input=story\n",
    ")\n",
    "\n",
    "# Define the path where you want to save the file\n",
    "speech_file_path = Path('../data/story.mp3')\n",
    "\n",
    "# Save the response content (binary content of the mp3 file) to the path\n",
    "with open(speech_file_path, 'wb') as file:\n",
    "    file.write(response.content)\n",
    "\n",
    "# Play the audio file\n",
    "Audio(speech_file_path, autoplay=True)\n"
   ]
  }
 ],
 "metadata": {
  "kernelspec": {
   "display_name": "Python 3",
   "language": "python",
   "name": "python3"
  },
  "language_info": {
   "codemirror_mode": {
    "name": "ipython",
    "version": 3
   },
   "file_extension": ".py",
   "mimetype": "text/x-python",
   "name": "python",
   "nbconvert_exporter": "python",
   "pygments_lexer": "ipython3",
   "version": "3.12.0"
  }
 },
 "nbformat": 4,
 "nbformat_minor": 2
}
