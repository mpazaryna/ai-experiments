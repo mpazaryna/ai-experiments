{
 "cells": [
  {
   "cell_type": "markdown",
   "metadata": {},
   "source": [
    "Google Sheets API: You need to go to the Google Developers Console, create a project, enable Google Sheets API, and download a JSON file with your credentials."
   ]
  },
  {
   "cell_type": "code",
   "execution_count": null,
   "metadata": {},
   "outputs": [],
   "source": [
    "# Step 1: Import necessary libraries\n",
    "import gspread\n",
    "from oauth2client.service_account import ServiceAccountCredentials\n",
    "import pandas as pd\n",
    "\n",
    "# Step 2: Define the scope and set up credentials\n",
    "scope = [\"https://spreadsheets.google.com/feeds\",'https://www.googleapis.com/auth/spreadsheets',\"https://www.googleapis.com/auth/drive.file\",\"https://www.googleapis.com/auth/drive\"]\n",
    "\n",
    "creds = ServiceAccountCredentials.from_json_keyfile_name('your_credentials_file.json', scope)\n",
    "\n",
    "# Step 3: Authorize and connect to Google Sheets\n",
    "client = gspread.authorize(creds)\n",
    "\n",
    "# Step 4: Open the Google Sheet\n",
    "sheet = client.open('your_google_sheet_name').sheet1\n",
    "\n",
    "# Step 5: Write data to the Sheet\n",
    "# Example: Write a single cell\n",
    "sheet.update_cell(1, 1, \"Hello World!\")\n",
    "\n",
    "# Example: Write a dataframe to the Sheet\n",
    "dataframe = pd.DataFrame({\n",
    "    'A': [1, 2, 3],\n",
    "    'B': [4, 5, 6]\n",
    "})\n",
    "\n",
    "# Convert DataFrame to list of lists (rows)\n",
    "data_to_write = dataframe.values.tolist()\n",
    "\n",
    "# Write to the sheet\n",
    "sheet.update('A2', data_to_write)\n"
   ]
  }
 ],
 "metadata": {
  "kernelspec": {
   "display_name": "venv",
   "language": "python",
   "name": "python3"
  },
  "language_info": {
   "name": "python",
   "version": "3.11.3"
  }
 },
 "nbformat": 4,
 "nbformat_minor": 2
}
