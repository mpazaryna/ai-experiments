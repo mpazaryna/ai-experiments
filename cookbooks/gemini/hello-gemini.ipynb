{
 "cells": [
  {
   "cell_type": "markdown",
   "metadata": {},
   "source": [
    "# Google Gemini LLM\n",
    "\n",
    "At the command line, only need to run once to install the package via pip:\n",
    "\n",
    "$ pip install google-generativeai\n"
   ]
  },
  {
   "cell_type": "code",
   "execution_count": null,
   "metadata": {},
   "outputs": [],
   "source": [
    "import os\n",
    "\n",
    "import google.generativeai as genai\n",
    "from dotenv import find_dotenv, load_dotenv\n",
    "\n",
    "load_dotenv(find_dotenv())\n",
    "API_KEY = os.environ.get(\"GEMINI_API_KEY\")\n",
    "\n",
    "genai.configure(api_key=API_KEY)\n",
    "\n",
    "print(API_KEY)"
   ]
  },
  {
   "cell_type": "code",
   "execution_count": 3,
   "metadata": {},
   "outputs": [],
   "source": [
    "# Set up the model\n",
    "generation_config = {\n",
    "    \"temperature\": 0.9,\n",
    "    \"top_p\": 1,\n",
    "    \"top_k\": 1,\n",
    "    \"max_output_tokens\": 2048,\n",
    "}\n",
    "\n",
    "safety_settings = [\n",
    "    {\"category\": \"HARM_CATEGORY_HARASSMENT\", \"threshold\": \"BLOCK_MEDIUM_AND_ABOVE\"},\n",
    "    {\"category\": \"HARM_CATEGORY_HATE_SPEECH\", \"threshold\": \"BLOCK_MEDIUM_AND_ABOVE\"},\n",
    "    {\n",
    "        \"category\": \"HARM_CATEGORY_SEXUALLY_EXPLICIT\",\n",
    "        \"threshold\": \"BLOCK_MEDIUM_AND_ABOVE\",\n",
    "    },\n",
    "    {\n",
    "        \"category\": \"HARM_CATEGORY_DANGEROUS_CONTENT\",\n",
    "        \"threshold\": \"BLOCK_MEDIUM_AND_ABOVE\",\n",
    "    },\n",
    "]\n",
    "\n",
    "model = genai.GenerativeModel(\n",
    "    model_name=\"gemini-pro\",\n",
    "    generation_config=generation_config,\n",
    "    safety_settings=safety_settings,\n",
    ")\n",
    "\n",
    "prompt_parts = [\n",
    "    \"What can you tell me about establishing a yoga practice?\",\n",
    "]\n",
    "\n"
   ]
  },
  {
   "cell_type": "code",
   "execution_count": 4,
   "metadata": {},
   "outputs": [
    {
     "name": "stdout",
     "output_type": "stream",
     "text": [
      "1. **Set Clear Goals:**\n",
      "   - Define your intentions, whether it's improving flexibility, strength, or reducing stress.\n",
      "\n",
      "2. **Choose the Right Style:**\n",
      "   - Explore different yoga styles like Hatha, Vinyasa, or Ashtanga to find what resonates with you.\n",
      "\n",
      "3. **Find a Qualified Teacher:**\n",
      "   - Look for experienced and certified instructors who can guide you safely.\n",
      "\n",
      "4. **Create a Dedicated Space:**\n",
      "   - Set up a quiet and comfortable area for your practice, free from distractions.\n",
      "\n",
      "5. **Start Slow:**\n",
      "   - Begin with beginner classes or foundational poses to gradually build your strength and flexibility.\n",
      "\n",
      "6. **Be Consistent:**\n",
      "   - Regular practice is key. Aim for at least 3-4 sessions per week for noticeable benefits.\n",
      "\n",
      "7. **Listen to Your Body:**\n",
      "   - Modify poses according to your limitations and avoid pushing yourself too far.\n",
      "\n",
      "8. **Focus on Alignment:**\n",
      "   - Proper alignment in poses is essential for preventing injuries and maximizing benefits.\n",
      "\n",
      "9. **Breathe Deeply:**\n",
      "   - Yoga is about more than just physical movement; focus on harmonious breathing throughout your practice.\n",
      "\n",
      "10. **Set Realistic Expectations:**\n",
      "   - Progress in yoga is gradual, so be patient and celebrate small victories along the way.\n",
      "\n",
      "11. **Stay Hydrated:**\n",
      "   - Drink plenty of water before, during, and after your practice to prevent dehydration.\n",
      "\n",
      "12. **Warm Up and Cool Down:**\n",
      "   - Warm up before your practice to prepare your body, and cool down with gentle poses afterward.\n",
      "\n",
      "13. **Add Variations:**\n",
      "   - Once you feel comfortable, explore variations of poses to challenge yourself.\n",
      "\n",
      "14. **Practice Mindful Eating:**\n",
      "   - Yoga emphasizes a healthy lifestyle, including mindful eating habits.\n",
      "\n",
      "15. **Stay Mindful and Present:**\n",
      "   - Embrace the meditative aspect of yoga and focus on being fully present during your practice.\n"
     ]
    }
   ],
   "source": [
    "\n",
    "response = model.generate_content(prompt_parts)\n",
    "print(response.text)"
   ]
  }
 ],
 "metadata": {
  "kernelspec": {
   "display_name": "venv",
   "language": "python",
   "name": "python3"
  },
  "language_info": {
   "codemirror_mode": {
    "name": "ipython",
    "version": 3
   },
   "file_extension": ".py",
   "mimetype": "text/x-python",
   "name": "python",
   "nbconvert_exporter": "python",
   "pygments_lexer": "ipython3",
   "version": "3.11.3"
  }
 },
 "nbformat": 4,
 "nbformat_minor": 2
}
