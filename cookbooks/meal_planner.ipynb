{
 "cells": [
  {
   "cell_type": "markdown",
   "metadata": {},
   "source": [
    "Building a meal planner using langchain\n",
    "https://youtu.be/RvRGtuGCAMY?si=ycEplEUhL_hHN1sL\n"
   ]
  },
  {
   "cell_type": "code",
   "execution_count": 1,
   "metadata": {},
   "outputs": [],
   "source": [
    "import os\n",
    "\n",
    "import dotenv\n",
    "import openai\n",
    "\n",
    "# Load your API key from an environment variable or secret management service\n",
    "openai.api_key = os.getenv(\"OPENAI_API_KEY\")\n",
    "\n",
    "# Get the path to the .env file\n",
    "dotenv_path = dotenv.find_dotenv()\n",
    "\n",
    "# Load the .env file\n",
    "dotenv.load_dotenv(dotenv_path)\n",
    "\n",
    "# Load your API key from an environment variable or secret management service\n",
    "openai.api_key = os.getenv(\"OPENAI_API_KEY\")"
   ]
  },
  {
   "cell_type": "code",
   "execution_count": 2,
   "metadata": {},
   "outputs": [
    {
     "name": "stderr",
     "output_type": "stream",
     "text": [
      "/Users/mpaz/anaconda3/envs/autogen/lib/python3.11/site-packages/langchain/llms/openai.py:216: UserWarning: You are trying to use a chat model. This way of initializing it is no longer supported. Instead, please use: `from langchain.chat_models import ChatOpenAI`\n",
      "  warnings.warn(\n",
      "/Users/mpaz/anaconda3/envs/autogen/lib/python3.11/site-packages/langchain/llms/openai.py:811: UserWarning: You are trying to use a chat model. This way of initializing it is no longer supported. Instead, please use: `from langchain.chat_models import ChatOpenAI`\n",
      "  warnings.warn(\n"
     ]
    },
    {
     "name": "stdout",
     "output_type": "stream",
     "text": [
      "Tall and sturdy oak,\n",
      "Leaves whisper secrets softly,\n",
      "Roots embrace the earth.\n"
     ]
    }
   ],
   "source": [
    "# test to make sure it's working\n",
    "from langchain.llms import OpenAI\n",
    "from langchain.chat_models import ChatOpenAI\n",
    "\n",
    "llm = OpenAI(temperature=0, model_name=\"gpt-3.5-turbo-16k\")\n",
    "haiku = llm(\"A haiku about a tree\")\n",
    "print(haiku)"
   ]
  },
  {
   "cell_type": "code",
   "execution_count": 3,
   "metadata": {},
   "outputs": [
    {
     "name": "stdout",
     "output_type": "stream",
     "text": [
      "\n",
      "\n",
      "One example of a meal that can be made using rice, chicken, and peppers is a spicy chicken and pepper stir-fry. To make this dish, cook the rice according to package instructions. In a large pan, heat some oil over medium-high heat and add diced chicken. Cook until the chicken is almost cooked through. Add diced peppers and stir-fry for a few minutes. Add cooked rice, soy sauce, garlic, ginger, and red pepper flakes. Stir-fry until everything is combined and heated through. Serve with extra soy sauce, if desired.\n"
     ]
    }
   ],
   "source": [
    "from langchain.llms import OpenAI\n",
    "from langchain.prompts import PromptTemplate\n",
    "\n",
    "llm = OpenAI(model_name=\"text-davinci-003\")\n",
    "\n",
    "prompt_template = PromptTemplate.from_template(\n",
    "    \"Give me an example of a meal that can be made using {ingredients}.\"\n",
    ")\n",
    "prompt_template.format(ingredients=\"rice,chicken,peppers\")\n",
    "recipe = llm(prompt_template.format(ingredients=\"rice,chicken,peppers\"))\n",
    "print(recipe)"
   ]
  }
 ],
 "metadata": {
  "kernelspec": {
   "display_name": "Python 3",
   "language": "python",
   "name": "python3"
  },
  "language_info": {
   "codemirror_mode": {
    "name": "ipython",
    "version": 3
   },
   "file_extension": ".py",
   "mimetype": "text/x-python",
   "name": "python",
   "nbconvert_exporter": "python",
   "pygments_lexer": "ipython3",
   "version": "3.11.4"
  },
  "orig_nbformat": 4
 },
 "nbformat": 4,
 "nbformat_minor": 2
}
