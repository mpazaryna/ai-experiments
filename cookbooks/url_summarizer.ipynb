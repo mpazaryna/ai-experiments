{
 "cells": [
  {
   "cell_type": "markdown",
   "metadata": {},
   "source": [
    "# Summarize URL\n",
    "\n",
    "Using langchain to summarize the contents of a url."
   ]
  },
  {
   "cell_type": "code",
   "execution_count": null,
   "metadata": {},
   "outputs": [],
   "source": [
    "import os\n",
    "\n",
    "import dotenv\n",
    "import openai\n",
    "\n",
    "# Load your API key from an environment variable or secret management service\n",
    "openai.api_key = os.getenv(\"OPENAI_API_KEY\")\n",
    "\n",
    "# Get the path to the .env file\n",
    "dotenv_path = dotenv.find_dotenv()\n",
    "\n",
    "# Load the .env file\n",
    "dotenv.load_dotenv(dotenv_path)\n",
    "\n",
    "# Load your API key from an environment variable or secret management service\n",
    "openai.api_key = os.getenv(\"OPENAI_API_KEY\")"
   ]
  },
  {
   "cell_type": "code",
   "execution_count": null,
   "metadata": {},
   "outputs": [],
   "source": [
    "# Importing necessary modules\n",
    "from langchain.chains.summarize import (\n",
    "    load_summarize_chain,  # Load the summarization chain\n",
    ")\n",
    "from langchain.chat_models import (\n",
    "    ChatOpenAI,  # Chat model from langchain based on OpenAI's GPT\n",
    ")\n",
    "from langchain.document_loaders import (\n",
    "    WebBaseLoader,  # Loader to fetch documents from the web\n",
    ")\n",
    "\n",
    "from langchain.output_parsers import (\n",
    "    ResponseSchema\n",
    ")"
   ]
  },
  {
   "cell_type": "code",
   "execution_count": null,
   "metadata": {},
   "outputs": [],
   "source": [
    "def run_call_summarize(url):\n",
    "    \"\"\"\n",
    "    Given a URL, this function fetches its content, summarizes it using a chain based on the GPT model,\n",
    "    and returns the summarized version.\n",
    "\n",
    "    Args:\n",
    "        url (str): The URL of the web page/document to be summarized.\n",
    "\n",
    "    Returns:\n",
    "        str: Summarized content of the provided URL.\n",
    "    \"\"\"\n",
    "\n",
    "    # Create an instance of the WebBaseLoader with the provided URL.\n",
    "    # This will be used to fetch the content from the URL.\n",
    "    loader = WebBaseLoader(url)\n",
    "\n",
    "    # Load the document/content from the provided URL.\n",
    "    docs = loader.load()\n",
    "\n",
    "    # Instantiate the ChatOpenAI model.\n",
    "    # Using the GPT \"gpt-3.5-turbo-16k\" variant with a temperature of 0 for deterministic outputs.\n",
    "    llm = ChatOpenAI(temperature=0, model_name=\"gpt-3.5-turbo-16k\")\n",
    "\n",
    "    # Load the summarization chain.\n",
    "    # The 'llm' instance is provided as an argument to use for summarization.\n",
    "    # The type of chain being used is specified as \"stuff\" (exact functionality would depend on library specifics).\n",
    "    chain = load_summarize_chain(llm, chain_type=\"stuff\")\n",
    "    \n",
    "    summary = chain.run(docs)\n",
    "\n",
    "    # Run the summarization chain on the loaded documents and return the summarized result.\n",
    "    return summary\n"
   ]
  },
  {
   "cell_type": "code",
   "execution_count": null,
   "metadata": {},
   "outputs": [],
   "source": [
    "url_to_summarize = \"https://austinkleon.com/2010/01/31/logbook/\"\n",
    "response_openai = run_call_summarize(url_to_summarize)\n",
    "\n",
    "print(\"Open AI:\")\n",
    "print(response_openai)\n",
    "# print(output_parser.parse(response_openai))"
   ]
  },
  {
   "cell_type": "markdown",
   "metadata": {},
   "source": []
  }
 ],
 "metadata": {
  "kernelspec": {
   "display_name": "autogen",
   "language": "python",
   "name": "python3"
  },
  "language_info": {
   "codemirror_mode": {
    "name": "ipython",
    "version": 3
   },
   "file_extension": ".py",
   "mimetype": "text/x-python",
   "name": "python",
   "nbconvert_exporter": "python",
   "pygments_lexer": "ipython3",
   "version": "3.11.4"
  }
 },
 "nbformat": 4,
 "nbformat_minor": 2
}
