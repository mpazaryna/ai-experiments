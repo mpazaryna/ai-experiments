{
 "cells": [
  {
   "cell_type": "markdown",
   "metadata": {},
   "source": [
    "I'm using the conda 3.12 environment when it's running locally.  I had to manually install the following.\n",
    "\n",
    "```sh\n",
    "conda env list\n",
    "conda activate py3.12\n",
    "conda install -c conda-forge python-dotenv\n",
    "conda install pillow\n",
    "pip install openai==1.1.1\n",
    "conda install requests\n",
    "```\n",
    "\n",
    "However, when using Github codespace, conda is not working, but venv is, so the above is not necessary when working in codespace.\n"
   ]
  },
  {
   "cell_type": "code",
   "execution_count": null,
   "metadata": {},
   "outputs": [],
   "source": [
    "!pip show openai\n"
   ]
  },
  {
   "cell_type": "code",
   "execution_count": null,
   "metadata": {},
   "outputs": [],
   "source": [
    "import os\n",
    "import openai\n",
    "from openai import OpenAI\n",
    "\n",
    "api_key=os.environ[\"OPENAI_API_KEY\"]\n",
    "client = OpenAI(api_key=api_key)"
   ]
  },
  {
   "cell_type": "markdown",
   "metadata": {},
   "source": [
    "DALL-E 3"
   ]
  },
  {
   "cell_type": "code",
   "execution_count": null,
   "metadata": {},
   "outputs": [],
   "source": [
    "PROMPT = \"a room full of dogs all meditating in a circle\""
   ]
  },
  {
   "cell_type": "code",
   "execution_count": null,
   "metadata": {},
   "outputs": [],
   "source": [
    "import openai\n",
    "from openai import OpenAI\n",
    "client = OpenAI(api_key=api_key)\n",
    "\n",
    "response = client.images.generate(\n",
    "  model=\"dall-e-3\",\n",
    "  prompt= PROMPT,\n",
    "  size=\"1024x1024\",\n",
    "  quality=\"standard\",\n",
    "  n=1,\n",
    ")\n",
    "\n",
    "image_url = response.data[0].url\n",
    "image_url"
   ]
  },
  {
   "cell_type": "code",
   "execution_count": null,
   "metadata": {},
   "outputs": [],
   "source": [
    "import requests\n",
    "from PIL import Image\n",
    "from io import BytesIO\n",
    "from IPython.display import display\n",
    "\n",
    "def display_and_save_image_from_url(url, scale_percent=100, save_name='image.png'):\n",
    "    # Send a GET request to the specified URL to retrieve the image\n",
    "    response = requests.get(url)\n",
    "    # Open the image\n",
    "    img = Image.open(BytesIO(response.content))\n",
    "\n",
    "    # Calculate the new size, as a percentage of the original size\n",
    "    if scale_percent != 100:\n",
    "        width, height = img.size\n",
    "        new_width = int(width * scale_percent / 100)\n",
    "        new_height = int(height * scale_percent / 100)\n",
    "        img = img.resize((new_width, new_height))\n",
    "\n",
    "    # Save the image locally with the given name\n",
    "    img.save(save_name)\n",
    "\n",
    "    # Display the image in the notebook\n",
    "    display(img)\n",
    "\n",
    "# Call the function with the URL, the scale percentage, and the save name you want\n",
    "display_and_save_image_from_url(image_url, scale_percent=50, save_name='../tmp/meditating_dogs.png')"
   ]
  },
  {
   "cell_type": "markdown",
   "metadata": {},
   "source": [
    "GPT Voice\n"
   ]
  },
  {
   "cell_type": "code",
   "execution_count": null,
   "metadata": {},
   "outputs": [],
   "source": [
    "import base64\n",
    "import requests\n",
    "\n",
    "# Function to encode the image\n",
    "def encode_image(image_path):\n",
    "    with open(image_path, \"rb\") as image_file:\n",
    "        return base64.b64encode(image_file.read()).decode('utf-8')\n",
    "\n",
    "# Path to your image\n",
    "image_path = \"../tmp/meditating_dogs.png\"\n",
    "\n",
    "# Getting the base64 string\n",
    "base64_image = encode_image(image_path)\n",
    "\n",
    "headers = {\n",
    "    \"Content-Type\": \"application/json\",\n",
    "    \"Authorization\": f\"Bearer {os.environ['OPENAI_API_KEY']}\"\n",
    "}\n",
    "\n",
    "payload = {\n",
    "    \"model\": \"gpt-4-vision-preview\",\n",
    "    \"messages\": [\n",
    "      {\n",
    "        \"role\": \"user\",\n",
    "        \"content\": [\n",
    "          {\n",
    "            \"type\": \"text\",\n",
    "            \"text\": \"Describe what's in this image in detail as a story?\"\n",
    "          },\n",
    "          {\n",
    "            \"type\": \"image_url\",\n",
    "            \"image_url\": {\n",
    "              \"url\": f\"data:image/jpeg;base64,{base64_image}\"\n",
    "            }\n",
    "          }\n",
    "        ]\n",
    "      }\n",
    "    ],\n",
    "    \"max_tokens\": 300\n",
    "}\n",
    "\n",
    "response = requests.post(\"https://api.openai.com/v1/chat/completions\", headers=headers, json=payload)\n",
    "\n",
    "print(response.json())"
   ]
  },
  {
   "cell_type": "code",
   "execution_count": null,
   "metadata": {},
   "outputs": [],
   "source": [
    "story = response.json()['choices'][0]['message']['content']\n",
    "\n",
    "print(story)"
   ]
  },
  {
   "cell_type": "markdown",
   "metadata": {},
   "source": [
    "## Text To Speech\n"
   ]
  },
  {
   "cell_type": "code",
   "execution_count": null,
   "metadata": {},
   "outputs": [],
   "source": [
    "from IPython.display import Audio\n",
    "from pathlib import Path\n",
    "\n",
    "response = client.audio.speech.create(\n",
    "  model=\"tts-1\",\n",
    "  voice=\"onyx\",\n",
    "  input=story\n",
    ")\n",
    "\n",
    "# Define the path where you want to save the file\n",
    "speech_file_path = Path('../tmp/story.mp3')\n",
    "\n",
    "# Save the response content (binary content of the mp3 file) to the path\n",
    "with open(speech_file_path, 'wb') as file:\n",
    "    file.write(response.content)\n",
    "\n",
    "# Play the audio file\n",
    "Audio(speech_file_path, autoplay=True)\n"
   ]
  }
 ],
 "metadata": {
  "kernelspec": {
   "display_name": "Python 3",
   "language": "python",
   "name": "python3"
  },
  "language_info": {
   "codemirror_mode": {
    "name": "ipython",
    "version": 3
   },
   "file_extension": ".py",
   "mimetype": "text/x-python",
   "name": "python",
   "nbconvert_exporter": "python",
   "pygments_lexer": "ipython3",
   "version": "3.10.8"
  }
 },
 "nbformat": 4,
 "nbformat_minor": 2
}
