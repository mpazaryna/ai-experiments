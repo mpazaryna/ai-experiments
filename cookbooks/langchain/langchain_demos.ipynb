{
 "cells": [
  {
   "cell_type": "markdown",
   "metadata": {},
   "source": [
    "Building a meal planner using langchain\n",
    "https://youtu.be/RvRGtuGCAMY?si=ycEplEUhL_hHN1sL\n"
   ]
  },
  {
   "cell_type": "code",
   "execution_count": 1,
   "metadata": {},
   "outputs": [],
   "source": [
    "import os\n",
    "import openai\n",
    "\n",
    "# Load your API key from an environment variable or secret management service\n",
    "openai.api_key = os.getenv(\"OPENAI_API_KEY\")"
   ]
  },
  {
   "cell_type": "code",
   "execution_count": 3,
   "metadata": {},
   "outputs": [
    {
     "name": "stdout",
     "output_type": "stream",
     "text": [
      "Tall and sturdy oak,\n",
      "Leaves whisper secrets softly,\n",
      "Roots embrace the earth.\n"
     ]
    }
   ],
   "source": [
    "from langchain.chat_models import ChatOpenAI\n",
    "\n",
    "llm = OpenAI(temperature=0, model_name=\"gpt-3.5-turbo-16k\")\n",
    "haiku = llm(\"A haiku about a tree\")\n",
    "print(haiku)"
   ]
  },
  {
   "cell_type": "code",
   "execution_count": 4,
   "metadata": {},
   "outputs": [
    {
     "name": "stdout",
     "output_type": "stream",
     "text": [
      "\n",
      "\n",
      "One example of a meal that can be made using rice, chicken, and peppers is a Chicken and Peppers Rice Bowl. To make this dish, start by cooking the rice according to package instructions. Heat some oil in a pan and add diced chicken, peppers, and any other desired vegetables. Cook the chicken and vegetables until they are cooked through, then add in some seasonings. Serve the cooked chicken and vegetables over the cooked rice. Top with fresh herbs and enjoy!\n"
     ]
    }
   ],
   "source": [
    "from langchain.llms import OpenAI\n",
    "from langchain.prompts import PromptTemplate\n",
    "\n",
    "def run_recipe_create():\n",
    "    llm = OpenAI(model_name=\"text-davinci-003\")\n",
    "\n",
    "    prompt_template = PromptTemplate.from_template(\n",
    "        \"Give me an example of a meal that can be made using {ingredients}.\"\n",
    "    )\n",
    "    prompt_template.format(ingredients=\"rice,chicken,peppers\")\n",
    "    recipe = llm(prompt_template.format(ingredients=\"rice,chicken,peppers\"))\n",
    "    return recipe\n",
    "\n",
    "v = run_recipe_create()\n",
    "print(v)"
   ]
  },
  {
   "cell_type": "code",
   "execution_count": 5,
   "metadata": {},
   "outputs": [
    {
     "name": "stdout",
     "output_type": "stream",
     "text": [
      "\n",
      "\n",
      "\u001b[1m> Entering new ConversationChain chain...\u001b[0m\n",
      "Prompt after formatting:\n",
      "\u001b[32;1m\u001b[1;3mThe following is a friendly conversation between a human and an AI. The AI is talkative and provides lots of specific details from its context. If the AI does not know the answer to a question, it truthfully says it does not know.\n",
      "\n",
      "Current conversation:\n",
      "\n",
      "Human: Hi there!\n",
      "AI:\u001b[0m\n",
      "\n",
      "\u001b[1m> Finished chain.\u001b[0m\n",
      "\n",
      "\n",
      "\u001b[1m> Entering new ConversationChain chain...\u001b[0m\n",
      "Prompt after formatting:\n",
      "\u001b[32;1m\u001b[1;3mThe following is a friendly conversation between a human and an AI. The AI is talkative and provides lots of specific details from its context. If the AI does not know the answer to a question, it truthfully says it does not know.\n",
      "\n",
      "Current conversation:\n",
      "Human: Hi there!\n",
      "AI:  Hi there! It's nice to meet you. I'm an AI with advanced knowledge in a variety of topics. What can I help you with today?\n",
      "Human: I'm doing well! Just having a conversation with an AI.\n",
      "AI:\u001b[0m\n",
      "\n",
      "\u001b[1m> Finished chain.\u001b[0m\n"
     ]
    }
   ],
   "source": [
    "from langchain import ConversationChain, PromptTemplate\n",
    "from langchain.llms import OpenAI\n",
    "\n",
    "def run_conversation_demo():\n",
    "    llm = OpenAI()\n",
    "    conversation = ConversationChain(llm=llm, verbose=True)\n",
    "    output1 = conversation.predict(input=\"Hi there!\")\n",
    "    output2 = conversation.predict(\n",
    "        input=\"I'm doing well! Just having a conversation with an AI.\"\n",
    "    )\n",
    "    return output1, output2\n",
    "\n",
    "output1, output2 = run_conversation_demo()"
   ]
  },
  {
   "cell_type": "code",
   "execution_count": 7,
   "metadata": {},
   "outputs": [
    {
     "name": "stdout",
     "output_type": "stream",
     "text": [
      "\n",
      "\n",
      "\u001b[1m> Entering new AgentExecutor chain...\u001b[0m\n",
      "\u001b[32;1m\u001b[1;3m I should search for Python on Wikipedia \n",
      "Action: Wikipedia\n",
      "Action Input: Python\u001b[0m"
     ]
    },
    {
     "name": "stderr",
     "output_type": "stream",
     "text": [
      "/Users/mpaz/github/ai-experiments/venv/lib/python3.11/site-packages/wikipedia/wikipedia.py:389: GuessedAtParserWarning: No parser was explicitly specified, so I'm using the best available HTML parser for this system (\"html.parser\"). This usually isn't a problem, but if you run this code on another system, or in a different virtual environment, it may use a different parser and behave differently.\n",
      "\n",
      "The code that caused this warning is on line 389 of the file /Users/mpaz/github/ai-experiments/venv/lib/python3.11/site-packages/wikipedia/wikipedia.py. To get rid of this warning, pass the additional argument 'features=\"html.parser\"' to the BeautifulSoup constructor.\n",
      "\n",
      "  lis = BeautifulSoup(html).find_all('li')\n"
     ]
    },
    {
     "name": "stdout",
     "output_type": "stream",
     "text": [
      "\n",
      "Observation: \u001b[36;1m\u001b[1;3mPage: Python (programming language)\n",
      "Summary: Python is a high-level, general-purpose programming language. Its design philosophy emphasizes code readability with the use of significant indentation.Python is dynamically typed and garbage-collected. It supports multiple programming paradigms, including structured (particularly procedural), object-oriented and functional programming. It is often described as a \"batteries included\" language due to its comprehensive standard library.Guido van Rossum began working on Python in the late 1980s as a successor to the ABC programming language and first released it in 1991 as Python 0.9.0. Python 2.0 was released in 2000. Python 3.0, released in 2008, was a major revision not completely backward-compatible with earlier versions. Python 2.7.18, released in 2020, was the last release of Python 2.Python consistently ranks as one of the most popular programming languages.\n",
      "\n",
      "Page: Monty Python\n",
      "Summary: Monty Python (also collectively known as the Pythons) were a British comedy troupe formed in 1969 consisting of Graham Chapman, John Cleese, Terry Gilliam, Eric Idle, Terry Jones, and Michael Palin. The group came to prominence for the sketch comedy series Monty Python's Flying Circus, which aired on the BBC from 1969 to 1974. Their work then developed into a larger collection that included live shows, films, albums, books, and musicals; their influence on comedy has been compared to the Beatles' influence on music. Their sketch show has been called \"an important moment in the evolution of television comedy\".Monty Python's Flying Circus was loosely structured as a sketch show, but its innovative stream-of-consciousness approach and Gilliam's animation skills pushed the boundaries of what was acceptable in style and content. The Pythons had creative control which allowed them to experiment with form and content, discarding rules of television comedy. They followed their television work by making  the films Monty Python and the Holy Grail (1975), Life of Brian (1979), and The Meaning of Life (1983). Their influence on British comedy has been apparent for years, while it has coloured the work of the early editions of Saturday Night Live through to absurdist trends in television comedy.\n",
      "At the 41st British Academy Film Awards in 1988, Monty Python received the BAFTA Award for Outstanding British Contribution to Cinema. In 1998, they were awarded the AFI Star Award by the American Film Institute. Holy Grail and Life of Brian are frequently ranked on lists of the greatest comedy films. A 2005 poll asked more than 300 comedians, comedy writers, producers, and directors to name the greatest comedians of all time, and half of Monty Python's members made the top 50.\n",
      "\n",
      "\u001b[0m\n",
      "Thought:\u001b[32;1m\u001b[1;3m I should use a calculator to multiply the year by 3 \n",
      "Action: Calculator\n",
      "Action Input: 1991 x 3\u001b[0m\n",
      "Observation: \u001b[33;1m\u001b[1;3mAnswer: 5973\u001b[0m\n",
      "Thought:\u001b[32;1m\u001b[1;3m I now know the final answer \n",
      "Final Answer: Python was released in 1991 by Guido van Rossum and multiplying the year by 3 yields 5973.\u001b[0m\n",
      "\n",
      "\u001b[1m> Finished chain.\u001b[0m\n",
      "Python was released in 1991 by Guido van Rossum and multiplying the year by 3 yields 5973.\n"
     ]
    }
   ],
   "source": [
    "from langchain import ConversationChain, PromptTemplate\n",
    "from langchain.agents import AgentType, initialize_agent, load_tools\n",
    "from langchain.agents.load_tools import get_all_tool_names\n",
    "from langchain.llms import OpenAI\n",
    "\n",
    "def run_agent_demo():\n",
    "    llm = OpenAI()\n",
    "    get_all_tool_names()\n",
    "    tools = load_tools([\"wikipedia\", \"llm-math\"], llm=llm)\n",
    "    agent = initialize_agent(\n",
    "        tools, llm, agent=AgentType.ZERO_SHOT_REACT_DESCRIPTION, verbose=True\n",
    "    )\n",
    "    result = agent.run(\n",
    "        \"In what year was python released and who is the original creator? Multiply the year by 3\"\n",
    "    )\n",
    "    return result\n",
    "\n",
    "print(run_agent_demo())"
   ]
  }
 ],
 "metadata": {
  "kernelspec": {
   "display_name": "Python 3",
   "language": "python",
   "name": "python3"
  },
  "language_info": {
   "codemirror_mode": {
    "name": "ipython",
    "version": 3
   },
   "file_extension": ".py",
   "mimetype": "text/x-python",
   "name": "python",
   "nbconvert_exporter": "python",
   "pygments_lexer": "ipython3",
   "version": "3.11.3"
  },
  "orig_nbformat": 4
 },
 "nbformat": 4,
 "nbformat_minor": 2
}
