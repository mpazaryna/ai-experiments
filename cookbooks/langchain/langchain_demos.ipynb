{
 "cells": [
  {
   "cell_type": "markdown",
   "metadata": {},
   "source": [
    "Building a meal planner using langchain\n",
    "https://youtu.be/RvRGtuGCAMY?si=ycEplEUhL_hHN1sL\n"
   ]
  },
  {
   "cell_type": "code",
   "execution_count": 1,
   "metadata": {},
   "outputs": [],
   "source": [
    "import os\n",
    "import openai\n",
    "\n",
    "# Load your API key from an environment variable or secret management service\n",
    "openai.api_key = os.getenv(\"OPENAI_API_KEY\")"
   ]
  },
  {
   "cell_type": "code",
   "execution_count": null,
   "metadata": {},
   "outputs": [],
   "source": [
    "from langchain.llms import OpenAI\n",
    "from langchain.chat_models import ChatOpenAI\n",
    "\n",
    "llm = OpenAI(temperature=0, model_name=\"gpt-3.5-turbo-16k\")\n",
    "haiku = llm(\"A haiku about a tree\")\n",
    "print(haiku)"
   ]
  },
  {
   "cell_type": "code",
   "execution_count": 5,
   "metadata": {},
   "outputs": [
    {
     "name": "stdout",
     "output_type": "stream",
     "text": [
      "\n",
      "\n",
      "One example of a meal that can be made using rice, chicken, and peppers is a Chicken and Peppers Fried Rice. This meal involves cooking the chicken and peppers together in a skillet with a bit of oil, then adding cooked rice, soy sauce, and garlic to the skillet and stirring until everything is combined. Finally, the dish can be garnished with green onions.\n"
     ]
    }
   ],
   "source": [
    "from langchain.llms import OpenAI\n",
    "from langchain.prompts import PromptTemplate\n",
    "\n",
    "def run_recipe_create():\n",
    "    llm = OpenAI(model_name=\"text-davinci-003\")\n",
    "\n",
    "    prompt_template = PromptTemplate.from_template(\n",
    "        \"Give me an example of a meal that can be made using {ingredients}.\"\n",
    "    )\n",
    "    prompt_template.format(ingredients=\"rice,chicken,peppers\")\n",
    "    recipe = llm(prompt_template.format(ingredients=\"rice,chicken,peppers\"))\n",
    "    return recipe\n",
    "\n",
    "v = run_recipe_create()\n",
    "print(v)"
   ]
  },
  {
   "cell_type": "code",
   "execution_count": 2,
   "metadata": {},
   "outputs": [
    {
     "name": "stdout",
     "output_type": "stream",
     "text": [
      "\n",
      "\n",
      "\u001b[1m> Entering new ConversationChain chain...\u001b[0m\n",
      "Prompt after formatting:\n",
      "\u001b[32;1m\u001b[1;3mThe following is a friendly conversation between a human and an AI. The AI is talkative and provides lots of specific details from its context. If the AI does not know the answer to a question, it truthfully says it does not know.\n",
      "\n",
      "Current conversation:\n",
      "\n",
      "Human: Hi there!\n",
      "AI:\u001b[0m\n",
      "\n",
      "\u001b[1m> Finished chain.\u001b[0m\n",
      "\n",
      "\n",
      "\u001b[1m> Entering new ConversationChain chain...\u001b[0m\n",
      "Prompt after formatting:\n",
      "\u001b[32;1m\u001b[1;3mThe following is a friendly conversation between a human and an AI. The AI is talkative and provides lots of specific details from its context. If the AI does not know the answer to a question, it truthfully says it does not know.\n",
      "\n",
      "Current conversation:\n",
      "Human: Hi there!\n",
      "AI:  Hi there! How can I help you?\n",
      "Human: I'm doing well! Just having a conversation with an AI.\n",
      "AI:\u001b[0m\n",
      "\n",
      "\u001b[1m> Finished chain.\u001b[0m\n"
     ]
    }
   ],
   "source": [
    "from langchain import ConversationChain, PromptTemplate\n",
    "from langchain.llms import OpenAI\n",
    "\n",
    "def run_conversation_demo():\n",
    "    llm = OpenAI()\n",
    "    conversation = ConversationChain(llm=llm, verbose=True)\n",
    "    output1 = conversation.predict(input=\"Hi there!\")\n",
    "    output2 = conversation.predict(\n",
    "        input=\"I'm doing well! Just having a conversation with an AI.\"\n",
    "    )\n",
    "    return output1, output2\n",
    "\n",
    "output1, output2 = run_conversation_demo()"
   ]
  }
 ],
 "metadata": {
  "kernelspec": {
   "display_name": "Python 3",
   "language": "python",
   "name": "python3"
  },
  "language_info": {
   "codemirror_mode": {
    "name": "ipython",
    "version": 3
   },
   "file_extension": ".py",
   "mimetype": "text/x-python",
   "name": "python",
   "nbconvert_exporter": "python",
   "pygments_lexer": "ipython3",
   "version": "3.11.3"
  },
  "orig_nbformat": 4
 },
 "nbformat": 4,
 "nbformat_minor": 2
}
